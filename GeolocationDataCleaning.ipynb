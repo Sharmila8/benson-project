{
 "cells": [
  {
   "cell_type": "markdown",
   "metadata": {},
   "source": [
    "# Plot the stations"
   ]
  },
  {
   "cell_type": "markdown",
   "metadata": {},
   "source": [
    "## Install Libraries"
   ]
  },
  {
   "cell_type": "code",
   "execution_count": 14,
   "metadata": {
    "collapsed": true
   },
   "outputs": [],
   "source": [
    "import pandas as pd\n",
    "import numpy as np\n",
    "import geopandas as gpd\n",
    "import mpl_toolkits as mpl\n",
    "import pyproj as proj\n",
    "from shapely import geometry\n",
    "import folium\n",
    "\n",
    "%matplotlib inline"
   ]
  },
  {
   "cell_type": "markdown",
   "metadata": {},
   "source": [
    "## Read in turnstile data with location info"
   ]
  },
  {
   "cell_type": "code",
   "execution_count": 2,
   "metadata": {
    "collapsed": true
   },
   "outputs": [],
   "source": [
    "turns = pd.read_pickle('data/turns_data_locations.pkl')"
   ]
  },
  {
   "cell_type": "code",
   "execution_count": 3,
   "metadata": {},
   "outputs": [
    {
     "data": {
      "text/html": [
       "<div>\n",
       "<style>\n",
       "    .dataframe thead tr:only-child th {\n",
       "        text-align: right;\n",
       "    }\n",
       "\n",
       "    .dataframe thead th {\n",
       "        text-align: left;\n",
       "    }\n",
       "\n",
       "    .dataframe tbody tr th {\n",
       "        vertical-align: top;\n",
       "    }\n",
       "</style>\n",
       "<table border=\"1\" class=\"dataframe\">\n",
       "  <thead>\n",
       "    <tr style=\"text-align: right;\">\n",
       "      <th></th>\n",
       "      <th>c/a</th>\n",
       "      <th>unit</th>\n",
       "      <th>scp</th>\n",
       "      <th>station</th>\n",
       "      <th>linename</th>\n",
       "      <th>division</th>\n",
       "      <th>date</th>\n",
       "      <th>time</th>\n",
       "      <th>desc</th>\n",
       "      <th>entries</th>\n",
       "      <th>...</th>\n",
       "      <th>GTFS Stop ID</th>\n",
       "      <th>Division</th>\n",
       "      <th>Line</th>\n",
       "      <th>Stop Name</th>\n",
       "      <th>Borough</th>\n",
       "      <th>Daytime Routes</th>\n",
       "      <th>Structure</th>\n",
       "      <th>GTFS Latitude</th>\n",
       "      <th>GTFS Longitude</th>\n",
       "      <th>station_id</th>\n",
       "    </tr>\n",
       "  </thead>\n",
       "  <tbody>\n",
       "    <tr>\n",
       "      <th>0</th>\n",
       "      <td>N220</td>\n",
       "      <td>R155</td>\n",
       "      <td>01-00-02</td>\n",
       "      <td>KINGSBRIDGE RD</td>\n",
       "      <td>BD</td>\n",
       "      <td>IND</td>\n",
       "      <td>03/26/2016</td>\n",
       "      <td>05:00:00</td>\n",
       "      <td>REGULAR</td>\n",
       "      <td>669738</td>\n",
       "      <td>...</td>\n",
       "      <td>D04</td>\n",
       "      <td>IND</td>\n",
       "      <td>Concourse</td>\n",
       "      <td>Kingsbridge Rd</td>\n",
       "      <td>Bx</td>\n",
       "      <td>B D</td>\n",
       "      <td>Subway</td>\n",
       "      <td>40.866978</td>\n",
       "      <td>-73.893509</td>\n",
       "      <td>Kingsbridge RdConcourse</td>\n",
       "    </tr>\n",
       "    <tr>\n",
       "      <th>1</th>\n",
       "      <td>N220</td>\n",
       "      <td>R155</td>\n",
       "      <td>01-00-02</td>\n",
       "      <td>KINGSBRIDGE RD</td>\n",
       "      <td>BD</td>\n",
       "      <td>IND</td>\n",
       "      <td>03/26/2016</td>\n",
       "      <td>09:00:00</td>\n",
       "      <td>REGULAR</td>\n",
       "      <td>669845</td>\n",
       "      <td>...</td>\n",
       "      <td>D04</td>\n",
       "      <td>IND</td>\n",
       "      <td>Concourse</td>\n",
       "      <td>Kingsbridge Rd</td>\n",
       "      <td>Bx</td>\n",
       "      <td>B D</td>\n",
       "      <td>Subway</td>\n",
       "      <td>40.866978</td>\n",
       "      <td>-73.893509</td>\n",
       "      <td>Kingsbridge RdConcourse</td>\n",
       "    </tr>\n",
       "    <tr>\n",
       "      <th>2</th>\n",
       "      <td>N220</td>\n",
       "      <td>R155</td>\n",
       "      <td>01-00-02</td>\n",
       "      <td>KINGSBRIDGE RD</td>\n",
       "      <td>BD</td>\n",
       "      <td>IND</td>\n",
       "      <td>03/26/2016</td>\n",
       "      <td>13:00:00</td>\n",
       "      <td>REGULAR</td>\n",
       "      <td>669956</td>\n",
       "      <td>...</td>\n",
       "      <td>D04</td>\n",
       "      <td>IND</td>\n",
       "      <td>Concourse</td>\n",
       "      <td>Kingsbridge Rd</td>\n",
       "      <td>Bx</td>\n",
       "      <td>B D</td>\n",
       "      <td>Subway</td>\n",
       "      <td>40.866978</td>\n",
       "      <td>-73.893509</td>\n",
       "      <td>Kingsbridge RdConcourse</td>\n",
       "    </tr>\n",
       "    <tr>\n",
       "      <th>3</th>\n",
       "      <td>N220</td>\n",
       "      <td>R155</td>\n",
       "      <td>01-00-02</td>\n",
       "      <td>KINGSBRIDGE RD</td>\n",
       "      <td>BD</td>\n",
       "      <td>IND</td>\n",
       "      <td>03/26/2016</td>\n",
       "      <td>17:00:00</td>\n",
       "      <td>REGULAR</td>\n",
       "      <td>670074</td>\n",
       "      <td>...</td>\n",
       "      <td>D04</td>\n",
       "      <td>IND</td>\n",
       "      <td>Concourse</td>\n",
       "      <td>Kingsbridge Rd</td>\n",
       "      <td>Bx</td>\n",
       "      <td>B D</td>\n",
       "      <td>Subway</td>\n",
       "      <td>40.866978</td>\n",
       "      <td>-73.893509</td>\n",
       "      <td>Kingsbridge RdConcourse</td>\n",
       "    </tr>\n",
       "    <tr>\n",
       "      <th>4</th>\n",
       "      <td>N220</td>\n",
       "      <td>R155</td>\n",
       "      <td>01-00-02</td>\n",
       "      <td>KINGSBRIDGE RD</td>\n",
       "      <td>BD</td>\n",
       "      <td>IND</td>\n",
       "      <td>03/26/2016</td>\n",
       "      <td>21:00:00</td>\n",
       "      <td>REGULAR</td>\n",
       "      <td>670139</td>\n",
       "      <td>...</td>\n",
       "      <td>D04</td>\n",
       "      <td>IND</td>\n",
       "      <td>Concourse</td>\n",
       "      <td>Kingsbridge Rd</td>\n",
       "      <td>Bx</td>\n",
       "      <td>B D</td>\n",
       "      <td>Subway</td>\n",
       "      <td>40.866978</td>\n",
       "      <td>-73.893509</td>\n",
       "      <td>Kingsbridge RdConcourse</td>\n",
       "    </tr>\n",
       "  </tbody>\n",
       "</table>\n",
       "<p>5 rows × 46 columns</p>\n",
       "</div>"
      ],
      "text/plain": [
       "    c/a  unit       scp         station linename division        date  \\\n",
       "0  N220  R155  01-00-02  KINGSBRIDGE RD       BD      IND  03/26/2016   \n",
       "1  N220  R155  01-00-02  KINGSBRIDGE RD       BD      IND  03/26/2016   \n",
       "2  N220  R155  01-00-02  KINGSBRIDGE RD       BD      IND  03/26/2016   \n",
       "3  N220  R155  01-00-02  KINGSBRIDGE RD       BD      IND  03/26/2016   \n",
       "4  N220  R155  01-00-02  KINGSBRIDGE RD       BD      IND  03/26/2016   \n",
       "\n",
       "       time     desc  entries           ...             GTFS Stop ID Division  \\\n",
       "0  05:00:00  REGULAR   669738           ...                      D04      IND   \n",
       "1  09:00:00  REGULAR   669845           ...                      D04      IND   \n",
       "2  13:00:00  REGULAR   669956           ...                      D04      IND   \n",
       "3  17:00:00  REGULAR   670074           ...                      D04      IND   \n",
       "4  21:00:00  REGULAR   670139           ...                      D04      IND   \n",
       "\n",
       "        Line       Stop Name Borough Daytime Routes  Structure GTFS Latitude  \\\n",
       "0  Concourse  Kingsbridge Rd      Bx            B D     Subway     40.866978   \n",
       "1  Concourse  Kingsbridge Rd      Bx            B D     Subway     40.866978   \n",
       "2  Concourse  Kingsbridge Rd      Bx            B D     Subway     40.866978   \n",
       "3  Concourse  Kingsbridge Rd      Bx            B D     Subway     40.866978   \n",
       "4  Concourse  Kingsbridge Rd      Bx            B D     Subway     40.866978   \n",
       "\n",
       "   GTFS Longitude               station_id  \n",
       "0      -73.893509  Kingsbridge RdConcourse  \n",
       "1      -73.893509  Kingsbridge RdConcourse  \n",
       "2      -73.893509  Kingsbridge RdConcourse  \n",
       "3      -73.893509  Kingsbridge RdConcourse  \n",
       "4      -73.893509  Kingsbridge RdConcourse  \n",
       "\n",
       "[5 rows x 46 columns]"
      ]
     },
     "execution_count": 3,
     "metadata": {},
     "output_type": "execute_result"
    }
   ],
   "source": [
    "turns.head()"
   ]
  },
  {
   "cell_type": "code",
   "execution_count": 4,
   "metadata": {},
   "outputs": [
    {
     "data": {
      "text/plain": [
       "Index(['c/a', 'unit', 'scp', 'station', 'linename', 'division', 'date', 'time',\n",
       "       'desc', 'entries', 'exits', 'datetime', 'datetime_clean', 'year',\n",
       "       'weekday', 'group', 'group_id', 'station_line', 'entries_diff',\n",
       "       'exit_diff', 'first_row_group', 'entries_outlier', 'exit_outlier',\n",
       "       'week', 'hour', 'timegroup', 'timegroupstr', 'wkdaynbr', 'Remote',\n",
       "       'Booth', 'stop_id.2013', 'Station.2013', 'Line.2013', 'Division.2013',\n",
       "       'Station ID', 'Complex ID', 'GTFS Stop ID', 'Division', 'Line',\n",
       "       'Stop Name', 'Borough', 'Daytime Routes', 'Structure', 'GTFS Latitude',\n",
       "       'GTFS Longitude', 'station_id'],\n",
       "      dtype='object')"
      ]
     },
     "execution_count": 4,
     "metadata": {},
     "output_type": "execute_result"
    }
   ],
   "source": [
    "turns.columns"
   ]
  },
  {
   "cell_type": "code",
   "execution_count": 5,
   "metadata": {
    "collapsed": true
   },
   "outputs": [],
   "source": [
    "# We can drop some of these columns\n",
    "to_drop = ['Remote', 'Booth', 'stop_id.2013', 'Station.2013', 'Line.2013', 'Division.2013', 'Station ID',\n",
    "          'Complex ID', 'Division', 'Line', 'Daytime Routes', 'Structure']\n",
    "\n",
    "turns.drop(to_drop, axis=1, inplace=True)"
   ]
  },
  {
   "cell_type": "markdown",
   "metadata": {
    "collapsed": true
   },
   "source": [
    "## Transform Location Data\n",
    "### Project lat/long points from geo coordinates to x,y values"
   ]
  },
  {
   "cell_type": "code",
   "execution_count": 6,
   "metadata": {
    "collapsed": true
   },
   "outputs": [],
   "source": [
    "# Set projections\n",
    "inProj = proj.Proj(init='epsg:4326') # assuming you're using WGS84 geographic\n",
    "outProj = proj.Proj(init='epsg:27700') # use a locally appropriate projected CRS"
   ]
  },
  {
   "cell_type": "code",
   "execution_count": 7,
   "metadata": {
    "collapsed": true
   },
   "outputs": [],
   "source": [
    "def convert_to_point(lon_array, lat_array, inProj=inProj, outProj=outProj):\n",
    "    \"\"\"\n",
    "    For a pair of geographic coordinate, project to x,y coordinates and return for use with spatial functions\n",
    "    \"\"\"\n",
    "    points = []\n",
    "    \n",
    "    for lon, lat in zip(lon_array, lat_array):\n",
    "        \n",
    "        # Cast the geographic coordinate pair to the projected system\n",
    "        x, y = proj.transform(inProj, outProj, lon, lat)\n",
    "        pnt = geometry.Point(x, y)\n",
    "        points.append(pnt)\n",
    "    \n",
    "    return points"
   ]
  },
  {
   "cell_type": "markdown",
   "metadata": {},
   "source": [
    "Because I don't need to run the above function on every single row in my turnstile dataframe (many rows for a single coordinate pair) I'll find the distinct lat/long pairs and convert them to points then merge back to full dataset"
   ]
  },
  {
   "cell_type": "code",
   "execution_count": 8,
   "metadata": {
    "collapsed": true
   },
   "outputs": [],
   "source": [
    "# Build array of distinct lat/longs to convert to points\n",
    "lat_longs = turns[['GTFS Latitude','GTFS Longitude']].drop_duplicates(keep='first').dropna(how='any')\n",
    "lat_longs.reset_index(drop=True, inplace=True)\n",
    "\n",
    "longs = np.array(lat_longs['GTFS Longitude'])\n",
    "lats = np.array(lat_longs['GTFS Latitude'])"
   ]
  },
  {
   "cell_type": "code",
   "execution_count": 9,
   "metadata": {
    "collapsed": true
   },
   "outputs": [],
   "source": [
    "lat_longs['points'] = convert_to_point(longs, lats)"
   ]
  },
  {
   "cell_type": "code",
   "execution_count": 10,
   "metadata": {},
   "outputs": [
    {
     "data": {
      "text/html": [
       "<div>\n",
       "<style>\n",
       "    .dataframe thead tr:only-child th {\n",
       "        text-align: right;\n",
       "    }\n",
       "\n",
       "    .dataframe thead th {\n",
       "        text-align: left;\n",
       "    }\n",
       "\n",
       "    .dataframe tbody tr th {\n",
       "        vertical-align: top;\n",
       "    }\n",
       "</style>\n",
       "<table border=\"1\" class=\"dataframe\">\n",
       "  <thead>\n",
       "    <tr style=\"text-align: right;\">\n",
       "      <th></th>\n",
       "      <th>GTFS Latitude</th>\n",
       "      <th>GTFS Longitude</th>\n",
       "      <th>points</th>\n",
       "    </tr>\n",
       "  </thead>\n",
       "  <tbody>\n",
       "    <tr>\n",
       "      <th>0</th>\n",
       "      <td>40.866978</td>\n",
       "      <td>-73.893509</td>\n",
       "      <td>POINT (-5388659.980590556 2328013.221235313)</td>\n",
       "    </tr>\n",
       "    <tr>\n",
       "      <th>1</th>\n",
       "      <td>40.751776</td>\n",
       "      <td>-73.976848</td>\n",
       "      <td>POINT (-5410795.920293068 2330219.44090841)</td>\n",
       "    </tr>\n",
       "    <tr>\n",
       "      <th>2</th>\n",
       "      <td>40.844434</td>\n",
       "      <td>-73.914685</td>\n",
       "      <td>POINT (-5393248.653874857 2329004.474736666)</td>\n",
       "    </tr>\n",
       "    <tr>\n",
       "      <th>3</th>\n",
       "      <td>40.700377</td>\n",
       "      <td>-73.950234</td>\n",
       "      <td>POINT (-5417217.488291109 2323777.891172175)</td>\n",
       "    </tr>\n",
       "    <tr>\n",
       "      <th>4</th>\n",
       "      <td>40.680829</td>\n",
       "      <td>-73.975098</td>\n",
       "      <td>POINT (-5421573.959626293 2325407.545724754)</td>\n",
       "    </tr>\n",
       "  </tbody>\n",
       "</table>\n",
       "</div>"
      ],
      "text/plain": [
       "   GTFS Latitude  GTFS Longitude                                        points\n",
       "0      40.866978      -73.893509  POINT (-5388659.980590556 2328013.221235313)\n",
       "1      40.751776      -73.976848   POINT (-5410795.920293068 2330219.44090841)\n",
       "2      40.844434      -73.914685  POINT (-5393248.653874857 2329004.474736666)\n",
       "3      40.700377      -73.950234  POINT (-5417217.488291109 2323777.891172175)\n",
       "4      40.680829      -73.975098  POINT (-5421573.959626293 2325407.545724754)"
      ]
     },
     "execution_count": 10,
     "metadata": {},
     "output_type": "execute_result"
    }
   ],
   "source": [
    "lat_longs.head()"
   ]
  },
  {
   "cell_type": "markdown",
   "metadata": {},
   "source": [
    "Now I can merge the projected points back to my full dataframe"
   ]
  },
  {
   "cell_type": "code",
   "execution_count": 11,
   "metadata": {},
   "outputs": [
    {
     "data": {
      "text/html": [
       "<div>\n",
       "<style>\n",
       "    .dataframe thead tr:only-child th {\n",
       "        text-align: right;\n",
       "    }\n",
       "\n",
       "    .dataframe thead th {\n",
       "        text-align: left;\n",
       "    }\n",
       "\n",
       "    .dataframe tbody tr th {\n",
       "        vertical-align: top;\n",
       "    }\n",
       "</style>\n",
       "<table border=\"1\" class=\"dataframe\">\n",
       "  <thead>\n",
       "    <tr style=\"text-align: right;\">\n",
       "      <th></th>\n",
       "      <th>c/a</th>\n",
       "      <th>unit</th>\n",
       "      <th>scp</th>\n",
       "      <th>station</th>\n",
       "      <th>linename</th>\n",
       "      <th>division</th>\n",
       "      <th>date</th>\n",
       "      <th>time</th>\n",
       "      <th>desc</th>\n",
       "      <th>entries</th>\n",
       "      <th>...</th>\n",
       "      <th>timegroup</th>\n",
       "      <th>timegroupstr</th>\n",
       "      <th>wkdaynbr</th>\n",
       "      <th>GTFS Stop ID</th>\n",
       "      <th>Stop Name</th>\n",
       "      <th>Borough</th>\n",
       "      <th>GTFS Latitude</th>\n",
       "      <th>GTFS Longitude</th>\n",
       "      <th>station_id</th>\n",
       "      <th>points</th>\n",
       "    </tr>\n",
       "  </thead>\n",
       "  <tbody>\n",
       "    <tr>\n",
       "      <th>0</th>\n",
       "      <td>N220</td>\n",
       "      <td>R155</td>\n",
       "      <td>01-00-02</td>\n",
       "      <td>KINGSBRIDGE RD</td>\n",
       "      <td>BD</td>\n",
       "      <td>IND</td>\n",
       "      <td>03/26/2016</td>\n",
       "      <td>05:00:00</td>\n",
       "      <td>REGULAR</td>\n",
       "      <td>669738</td>\n",
       "      <td>...</td>\n",
       "      <td>1</td>\n",
       "      <td>2 am - 6 am</td>\n",
       "      <td>6</td>\n",
       "      <td>D04</td>\n",
       "      <td>Kingsbridge Rd</td>\n",
       "      <td>Bx</td>\n",
       "      <td>40.866978</td>\n",
       "      <td>-73.893509</td>\n",
       "      <td>Kingsbridge RdConcourse</td>\n",
       "      <td>POINT (-5388659.980590556 2328013.221235313)</td>\n",
       "    </tr>\n",
       "    <tr>\n",
       "      <th>1</th>\n",
       "      <td>N220</td>\n",
       "      <td>R155</td>\n",
       "      <td>01-00-02</td>\n",
       "      <td>KINGSBRIDGE RD</td>\n",
       "      <td>BD</td>\n",
       "      <td>IND</td>\n",
       "      <td>03/26/2016</td>\n",
       "      <td>09:00:00</td>\n",
       "      <td>REGULAR</td>\n",
       "      <td>669845</td>\n",
       "      <td>...</td>\n",
       "      <td>2</td>\n",
       "      <td>6 am - 10 am</td>\n",
       "      <td>6</td>\n",
       "      <td>D04</td>\n",
       "      <td>Kingsbridge Rd</td>\n",
       "      <td>Bx</td>\n",
       "      <td>40.866978</td>\n",
       "      <td>-73.893509</td>\n",
       "      <td>Kingsbridge RdConcourse</td>\n",
       "      <td>POINT (-5388659.980590556 2328013.221235313)</td>\n",
       "    </tr>\n",
       "    <tr>\n",
       "      <th>2</th>\n",
       "      <td>N220</td>\n",
       "      <td>R155</td>\n",
       "      <td>01-00-02</td>\n",
       "      <td>KINGSBRIDGE RD</td>\n",
       "      <td>BD</td>\n",
       "      <td>IND</td>\n",
       "      <td>03/26/2016</td>\n",
       "      <td>13:00:00</td>\n",
       "      <td>REGULAR</td>\n",
       "      <td>669956</td>\n",
       "      <td>...</td>\n",
       "      <td>3</td>\n",
       "      <td>10 am - 2pm</td>\n",
       "      <td>6</td>\n",
       "      <td>D04</td>\n",
       "      <td>Kingsbridge Rd</td>\n",
       "      <td>Bx</td>\n",
       "      <td>40.866978</td>\n",
       "      <td>-73.893509</td>\n",
       "      <td>Kingsbridge RdConcourse</td>\n",
       "      <td>POINT (-5388659.980590556 2328013.221235313)</td>\n",
       "    </tr>\n",
       "    <tr>\n",
       "      <th>3</th>\n",
       "      <td>N220</td>\n",
       "      <td>R155</td>\n",
       "      <td>01-00-02</td>\n",
       "      <td>KINGSBRIDGE RD</td>\n",
       "      <td>BD</td>\n",
       "      <td>IND</td>\n",
       "      <td>03/26/2016</td>\n",
       "      <td>17:00:00</td>\n",
       "      <td>REGULAR</td>\n",
       "      <td>670074</td>\n",
       "      <td>...</td>\n",
       "      <td>4</td>\n",
       "      <td>2 pm - 6 pm</td>\n",
       "      <td>6</td>\n",
       "      <td>D04</td>\n",
       "      <td>Kingsbridge Rd</td>\n",
       "      <td>Bx</td>\n",
       "      <td>40.866978</td>\n",
       "      <td>-73.893509</td>\n",
       "      <td>Kingsbridge RdConcourse</td>\n",
       "      <td>POINT (-5388659.980590556 2328013.221235313)</td>\n",
       "    </tr>\n",
       "    <tr>\n",
       "      <th>4</th>\n",
       "      <td>N220</td>\n",
       "      <td>R155</td>\n",
       "      <td>01-00-02</td>\n",
       "      <td>KINGSBRIDGE RD</td>\n",
       "      <td>BD</td>\n",
       "      <td>IND</td>\n",
       "      <td>03/26/2016</td>\n",
       "      <td>21:00:00</td>\n",
       "      <td>REGULAR</td>\n",
       "      <td>670139</td>\n",
       "      <td>...</td>\n",
       "      <td>5</td>\n",
       "      <td>6 pm - 10 pm</td>\n",
       "      <td>6</td>\n",
       "      <td>D04</td>\n",
       "      <td>Kingsbridge Rd</td>\n",
       "      <td>Bx</td>\n",
       "      <td>40.866978</td>\n",
       "      <td>-73.893509</td>\n",
       "      <td>Kingsbridge RdConcourse</td>\n",
       "      <td>POINT (-5388659.980590556 2328013.221235313)</td>\n",
       "    </tr>\n",
       "  </tbody>\n",
       "</table>\n",
       "<p>5 rows × 35 columns</p>\n",
       "</div>"
      ],
      "text/plain": [
       "    c/a  unit       scp         station linename division        date  \\\n",
       "0  N220  R155  01-00-02  KINGSBRIDGE RD       BD      IND  03/26/2016   \n",
       "1  N220  R155  01-00-02  KINGSBRIDGE RD       BD      IND  03/26/2016   \n",
       "2  N220  R155  01-00-02  KINGSBRIDGE RD       BD      IND  03/26/2016   \n",
       "3  N220  R155  01-00-02  KINGSBRIDGE RD       BD      IND  03/26/2016   \n",
       "4  N220  R155  01-00-02  KINGSBRIDGE RD       BD      IND  03/26/2016   \n",
       "\n",
       "       time     desc  entries                      ...                       \\\n",
       "0  05:00:00  REGULAR   669738                      ...                        \n",
       "1  09:00:00  REGULAR   669845                      ...                        \n",
       "2  13:00:00  REGULAR   669956                      ...                        \n",
       "3  17:00:00  REGULAR   670074                      ...                        \n",
       "4  21:00:00  REGULAR   670139                      ...                        \n",
       "\n",
       "   timegroup  timegroupstr wkdaynbr  GTFS Stop ID       Stop Name Borough  \\\n",
       "0          1   2 am - 6 am        6           D04  Kingsbridge Rd      Bx   \n",
       "1          2  6 am - 10 am        6           D04  Kingsbridge Rd      Bx   \n",
       "2          3   10 am - 2pm        6           D04  Kingsbridge Rd      Bx   \n",
       "3          4   2 pm - 6 pm        6           D04  Kingsbridge Rd      Bx   \n",
       "4          5  6 pm - 10 pm        6           D04  Kingsbridge Rd      Bx   \n",
       "\n",
       "   GTFS Latitude GTFS Longitude               station_id  \\\n",
       "0      40.866978     -73.893509  Kingsbridge RdConcourse   \n",
       "1      40.866978     -73.893509  Kingsbridge RdConcourse   \n",
       "2      40.866978     -73.893509  Kingsbridge RdConcourse   \n",
       "3      40.866978     -73.893509  Kingsbridge RdConcourse   \n",
       "4      40.866978     -73.893509  Kingsbridge RdConcourse   \n",
       "\n",
       "                                         points  \n",
       "0  POINT (-5388659.980590556 2328013.221235313)  \n",
       "1  POINT (-5388659.980590556 2328013.221235313)  \n",
       "2  POINT (-5388659.980590556 2328013.221235313)  \n",
       "3  POINT (-5388659.980590556 2328013.221235313)  \n",
       "4  POINT (-5388659.980590556 2328013.221235313)  \n",
       "\n",
       "[5 rows x 35 columns]"
      ]
     },
     "execution_count": 11,
     "metadata": {},
     "output_type": "execute_result"
    }
   ],
   "source": [
    "turns_pts = pd.merge(turns, lat_longs, how='left', on=['GTFS Latitude', 'GTFS Longitude'])\n",
    "turns_pts.head()"
   ]
  },
  {
   "cell_type": "code",
   "execution_count": 15,
   "metadata": {},
   "outputs": [],
   "source": [
    "# Write out to CSV for Tableau testing \n",
    "turns_pts.to_csv('zipfile_test/turns_locations.csv', index=False)"
   ]
  },
  {
   "cell_type": "markdown",
   "metadata": {},
   "source": [
    "Find points within certain radius"
   ]
  },
  {
   "cell_type": "code",
   "execution_count": null,
   "metadata": {},
   "outputs": [],
   "source": [
    "#central_pt = turns_pts.loc[0, 'points']\n",
    "#print(central_pt)"
   ]
  },
  {
   "cell_type": "markdown",
   "metadata": {
    "collapsed": true
   },
   "source": [
    "## Try plotting points on map"
   ]
  },
  {
   "cell_type": "code",
   "execution_count": 16,
   "metadata": {
    "collapsed": true
   },
   "outputs": [],
   "source": [
    "#New York City Coordinates\n",
    "NYC_COORD = [40.7128, -74.0059]\n",
    "\n",
    "# Build map \n",
    "map_nyc = folium.Map(location=NYC_COORD, zoom_start=12, \n",
    "tiles='cartodbpositron', width=640, height=480)"
   ]
  },
  {
   "cell_type": "code",
   "execution_count": null,
   "metadata": {
    "collapsed": true
   },
   "outputs": [],
   "source": []
  }
 ],
 "metadata": {
  "kernelspec": {
   "display_name": "Python 3",
   "language": "python",
   "name": "python3"
  },
  "language_info": {
   "codemirror_mode": {
    "name": "ipython",
    "version": 3
   },
   "file_extension": ".py",
   "mimetype": "text/x-python",
   "name": "python",
   "nbconvert_exporter": "python",
   "pygments_lexer": "ipython3",
   "version": "3.6.3"
  },
  "toc": {
   "nav_menu": {},
   "number_sections": true,
   "sideBar": true,
   "skip_h1_title": false,
   "title_cell": "Table of Contents",
   "title_sidebar": "Contents",
   "toc_cell": false,
   "toc_position": {},
   "toc_section_display": true,
   "toc_window_display": false
  },
  "varInspector": {
   "cols": {
    "lenName": 16,
    "lenType": 16,
    "lenVar": 40
   },
   "kernels_config": {
    "python": {
     "delete_cmd_postfix": "",
     "delete_cmd_prefix": "del ",
     "library": "var_list.py",
     "varRefreshCmd": "print(var_dic_list())"
    },
    "r": {
     "delete_cmd_postfix": ") ",
     "delete_cmd_prefix": "rm(",
     "library": "var_list.r",
     "varRefreshCmd": "cat(var_dic_list()) "
    }
   },
   "types_to_exclude": [
    "module",
    "function",
    "builtin_function_or_method",
    "instance",
    "_Feature"
   ],
   "window_display": false
  }
 },
 "nbformat": 4,
 "nbformat_minor": 2
}
