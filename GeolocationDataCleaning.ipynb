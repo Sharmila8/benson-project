{
 "cells": [
  {
   "cell_type": "markdown",
   "metadata": {},
   "source": [
    "# Plot the stations"
   ]
  },
  {
   "cell_type": "markdown",
   "metadata": {},
   "source": [
    "## Install Libraries"
   ]
  },
  {
   "cell_type": "code",
   "execution_count": 16,
   "metadata": {
    "collapsed": true
   },
   "outputs": [],
   "source": [
    "import pandas as pd\n",
    "import numpy as np\n",
    "import geopandas as gpd\n",
    "import mpl_toolkits as mpl\n",
    "import pyproj as proj\n",
    "from shapely import geometry\n",
    "\n",
    "\n",
    "%matplotlib inline"
   ]
  },
  {
   "cell_type": "markdown",
   "metadata": {},
   "source": [
    "## Read in turnstile data with location info"
   ]
  },
  {
   "cell_type": "code",
   "execution_count": 56,
   "metadata": {
    "collapsed": true
   },
   "outputs": [],
   "source": [
    "turns = pd.read_pickle('data/turns_data_locations.pkl')"
   ]
  },
  {
   "cell_type": "code",
   "execution_count": 3,
   "metadata": {},
   "outputs": [
    {
     "data": {
      "text/html": [
       "<div>\n",
       "<style>\n",
       "    .dataframe thead tr:only-child th {\n",
       "        text-align: right;\n",
       "    }\n",
       "\n",
       "    .dataframe thead th {\n",
       "        text-align: left;\n",
       "    }\n",
       "\n",
       "    .dataframe tbody tr th {\n",
       "        vertical-align: top;\n",
       "    }\n",
       "</style>\n",
       "<table border=\"1\" class=\"dataframe\">\n",
       "  <thead>\n",
       "    <tr style=\"text-align: right;\">\n",
       "      <th></th>\n",
       "      <th>c/a</th>\n",
       "      <th>unit</th>\n",
       "      <th>scp</th>\n",
       "      <th>station</th>\n",
       "      <th>linename</th>\n",
       "      <th>division</th>\n",
       "      <th>date</th>\n",
       "      <th>time</th>\n",
       "      <th>desc</th>\n",
       "      <th>entries</th>\n",
       "      <th>...</th>\n",
       "      <th>Complex ID</th>\n",
       "      <th>GTFS Stop ID</th>\n",
       "      <th>Division</th>\n",
       "      <th>Line</th>\n",
       "      <th>Stop Name</th>\n",
       "      <th>Borough</th>\n",
       "      <th>Daytime Routes</th>\n",
       "      <th>Structure</th>\n",
       "      <th>GTFS Latitude</th>\n",
       "      <th>GTFS Longitude</th>\n",
       "    </tr>\n",
       "  </thead>\n",
       "  <tbody>\n",
       "    <tr>\n",
       "      <th>0</th>\n",
       "      <td>N519</td>\n",
       "      <td>R461</td>\n",
       "      <td>00-03-01</td>\n",
       "      <td>B'WAY-LAFAYETTE</td>\n",
       "      <td>BDFQ6</td>\n",
       "      <td>IND</td>\n",
       "      <td>03/25/2017</td>\n",
       "      <td>05:00:00</td>\n",
       "      <td>REGULAR</td>\n",
       "      <td>17310033</td>\n",
       "      <td>...</td>\n",
       "      <td>619.0</td>\n",
       "      <td>D21</td>\n",
       "      <td>IND</td>\n",
       "      <td>6th Av - Culver</td>\n",
       "      <td>Broadway-Lafayette St</td>\n",
       "      <td>M</td>\n",
       "      <td>B D F M</td>\n",
       "      <td>Subway</td>\n",
       "      <td>40.725297</td>\n",
       "      <td>-73.996204</td>\n",
       "    </tr>\n",
       "    <tr>\n",
       "      <th>1</th>\n",
       "      <td>N519</td>\n",
       "      <td>R461</td>\n",
       "      <td>00-03-01</td>\n",
       "      <td>B'WAY-LAFAYETTE</td>\n",
       "      <td>BDFQ6</td>\n",
       "      <td>IND</td>\n",
       "      <td>03/25/2017</td>\n",
       "      <td>09:00:00</td>\n",
       "      <td>REGULAR</td>\n",
       "      <td>17310048</td>\n",
       "      <td>...</td>\n",
       "      <td>619.0</td>\n",
       "      <td>D21</td>\n",
       "      <td>IND</td>\n",
       "      <td>6th Av - Culver</td>\n",
       "      <td>Broadway-Lafayette St</td>\n",
       "      <td>M</td>\n",
       "      <td>B D F M</td>\n",
       "      <td>Subway</td>\n",
       "      <td>40.725297</td>\n",
       "      <td>-73.996204</td>\n",
       "    </tr>\n",
       "    <tr>\n",
       "      <th>2</th>\n",
       "      <td>N519</td>\n",
       "      <td>R461</td>\n",
       "      <td>00-03-01</td>\n",
       "      <td>B'WAY-LAFAYETTE</td>\n",
       "      <td>BDFQ6</td>\n",
       "      <td>IND</td>\n",
       "      <td>03/25/2017</td>\n",
       "      <td>13:00:00</td>\n",
       "      <td>REGULAR</td>\n",
       "      <td>17310132</td>\n",
       "      <td>...</td>\n",
       "      <td>619.0</td>\n",
       "      <td>D21</td>\n",
       "      <td>IND</td>\n",
       "      <td>6th Av - Culver</td>\n",
       "      <td>Broadway-Lafayette St</td>\n",
       "      <td>M</td>\n",
       "      <td>B D F M</td>\n",
       "      <td>Subway</td>\n",
       "      <td>40.725297</td>\n",
       "      <td>-73.996204</td>\n",
       "    </tr>\n",
       "    <tr>\n",
       "      <th>3</th>\n",
       "      <td>N519</td>\n",
       "      <td>R461</td>\n",
       "      <td>00-03-01</td>\n",
       "      <td>B'WAY-LAFAYETTE</td>\n",
       "      <td>BDFQ6</td>\n",
       "      <td>IND</td>\n",
       "      <td>03/25/2017</td>\n",
       "      <td>17:00:00</td>\n",
       "      <td>REGULAR</td>\n",
       "      <td>17310413</td>\n",
       "      <td>...</td>\n",
       "      <td>619.0</td>\n",
       "      <td>D21</td>\n",
       "      <td>IND</td>\n",
       "      <td>6th Av - Culver</td>\n",
       "      <td>Broadway-Lafayette St</td>\n",
       "      <td>M</td>\n",
       "      <td>B D F M</td>\n",
       "      <td>Subway</td>\n",
       "      <td>40.725297</td>\n",
       "      <td>-73.996204</td>\n",
       "    </tr>\n",
       "    <tr>\n",
       "      <th>4</th>\n",
       "      <td>N519</td>\n",
       "      <td>R461</td>\n",
       "      <td>00-03-01</td>\n",
       "      <td>B'WAY-LAFAYETTE</td>\n",
       "      <td>BDFQ6</td>\n",
       "      <td>IND</td>\n",
       "      <td>03/25/2017</td>\n",
       "      <td>21:00:00</td>\n",
       "      <td>REGULAR</td>\n",
       "      <td>17310743</td>\n",
       "      <td>...</td>\n",
       "      <td>619.0</td>\n",
       "      <td>D21</td>\n",
       "      <td>IND</td>\n",
       "      <td>6th Av - Culver</td>\n",
       "      <td>Broadway-Lafayette St</td>\n",
       "      <td>M</td>\n",
       "      <td>B D F M</td>\n",
       "      <td>Subway</td>\n",
       "      <td>40.725297</td>\n",
       "      <td>-73.996204</td>\n",
       "    </tr>\n",
       "  </tbody>\n",
       "</table>\n",
       "<p>5 rows × 43 columns</p>\n",
       "</div>"
      ],
      "text/plain": [
       "    c/a  unit       scp          station linename division        date  \\\n",
       "0  N519  R461  00-03-01  B'WAY-LAFAYETTE    BDFQ6      IND  03/25/2017   \n",
       "1  N519  R461  00-03-01  B'WAY-LAFAYETTE    BDFQ6      IND  03/25/2017   \n",
       "2  N519  R461  00-03-01  B'WAY-LAFAYETTE    BDFQ6      IND  03/25/2017   \n",
       "3  N519  R461  00-03-01  B'WAY-LAFAYETTE    BDFQ6      IND  03/25/2017   \n",
       "4  N519  R461  00-03-01  B'WAY-LAFAYETTE    BDFQ6      IND  03/25/2017   \n",
       "\n",
       "       time     desc   entries       ...        Complex ID GTFS Stop ID  \\\n",
       "0  05:00:00  REGULAR  17310033       ...             619.0          D21   \n",
       "1  09:00:00  REGULAR  17310048       ...             619.0          D21   \n",
       "2  13:00:00  REGULAR  17310132       ...             619.0          D21   \n",
       "3  17:00:00  REGULAR  17310413       ...             619.0          D21   \n",
       "4  21:00:00  REGULAR  17310743       ...             619.0          D21   \n",
       "\n",
       "  Division             Line              Stop Name Borough  Daytime Routes  \\\n",
       "0      IND  6th Av - Culver  Broadway-Lafayette St       M         B D F M   \n",
       "1      IND  6th Av - Culver  Broadway-Lafayette St       M         B D F M   \n",
       "2      IND  6th Av - Culver  Broadway-Lafayette St       M         B D F M   \n",
       "3      IND  6th Av - Culver  Broadway-Lafayette St       M         B D F M   \n",
       "4      IND  6th Av - Culver  Broadway-Lafayette St       M         B D F M   \n",
       "\n",
       "  Structure  GTFS Latitude  GTFS Longitude  \n",
       "0    Subway      40.725297      -73.996204  \n",
       "1    Subway      40.725297      -73.996204  \n",
       "2    Subway      40.725297      -73.996204  \n",
       "3    Subway      40.725297      -73.996204  \n",
       "4    Subway      40.725297      -73.996204  \n",
       "\n",
       "[5 rows x 43 columns]"
      ]
     },
     "execution_count": 3,
     "metadata": {},
     "output_type": "execute_result"
    }
   ],
   "source": [
    "turns.head()"
   ]
  },
  {
   "cell_type": "code",
   "execution_count": 45,
   "metadata": {},
   "outputs": [
    {
     "data": {
      "text/plain": [
       "Index(['c/a', 'unit', 'scp', 'station', 'linename', 'division', 'date', 'time',\n",
       "       'desc', 'entries', 'exits', 'datetime', 'datetime_clean', 'year',\n",
       "       'weekday', 'group', 'group_id', 'station_id', 'entries_diff',\n",
       "       'exit_diff', 'first_row_group', 'entries_outlier', 'exit_outlier',\n",
       "       'all_traffic', 'week', 'hour', 'Remote', 'Booth', 'stop_id.2013',\n",
       "       'Station.2013', 'Line.2013', 'Division.2013', 'Station ID',\n",
       "       'Complex ID', 'GTFS Stop ID', 'Division', 'Line', 'Stop Name',\n",
       "       'Borough', 'Daytime Routes', 'Structure', 'GTFS Latitude',\n",
       "       'GTFS Longitude'],\n",
       "      dtype='object')"
      ]
     },
     "execution_count": 45,
     "metadata": {},
     "output_type": "execute_result"
    }
   ],
   "source": [
    "turns.columns"
   ]
  },
  {
   "cell_type": "code",
   "execution_count": 57,
   "metadata": {
    "collapsed": true
   },
   "outputs": [],
   "source": [
    "# We can drop some of these columns\n",
    "to_drop = ['Remote', 'Booth', 'stop_id.2013', 'Station.2013', 'Line.2013', 'Division.2013', 'Station ID',\n",
    "          'Complex ID', 'Division', 'Line', 'Daytime Routes', 'Structure']\n",
    "\n",
    "turns.drop(to_drop, axis=1, inplace=True)"
   ]
  },
  {
   "cell_type": "markdown",
   "metadata": {
    "collapsed": true
   },
   "source": [
    "## Transform Location Data\n",
    "### Project lat/long points from geo coordinates to x,y values"
   ]
  },
  {
   "cell_type": "code",
   "execution_count": 58,
   "metadata": {
    "collapsed": true
   },
   "outputs": [],
   "source": [
    "# Set projections\n",
    "inProj = proj.Proj(init='epsg:4326') # assuming you're using WGS84 geographic\n",
    "outProj = proj.Proj(init='epsg:27700') # use a locally appropriate projected CRS"
   ]
  },
  {
   "cell_type": "code",
   "execution_count": 59,
   "metadata": {
    "collapsed": true
   },
   "outputs": [],
   "source": [
    "def convert_to_point(lon_array, lat_array, inProj=inProj, outProj=outProj):\n",
    "    \"\"\"\n",
    "    For a pair of geographic coordinate, project to x,y coordinates and return for use with spatial functions\n",
    "    \"\"\"\n",
    "    points = []\n",
    "    \n",
    "    for lon, lat in zip(lon_array, lat_array):\n",
    "        \n",
    "        # Cast the geographic coordinate pair to the projected system\n",
    "        x, y = proj.transform(inProj, outProj, lon, lat)\n",
    "        pnt = geometry.Point(x, y)\n",
    "        points.append(pnt)\n",
    "    \n",
    "    return points"
   ]
  },
  {
   "cell_type": "markdown",
   "metadata": {},
   "source": [
    "Because I don't need to run the above function on every single row in my turnstile dataframe (many rows for a single coordinate pair) I'll find the distinct lat/long pairs and convert them to points then merge back to full dataset"
   ]
  },
  {
   "cell_type": "code",
   "execution_count": 60,
   "metadata": {
    "collapsed": true
   },
   "outputs": [],
   "source": [
    "# Build array of distinct lat/longs to convert to points\n",
    "lat_longs = turns[['GTFS Latitude','GTFS Longitude']].drop_duplicates(keep='first').dropna(how='any')\n",
    "lat_longs.reset_index(drop=True, inplace=True)\n",
    "\n",
    "longs = np.array(lat_longs['GTFS Longitude'])\n",
    "lats = np.array(lat_longs['GTFS Latitude'])"
   ]
  },
  {
   "cell_type": "code",
   "execution_count": 61,
   "metadata": {
    "collapsed": true
   },
   "outputs": [],
   "source": [
    "lat_longs['points'] = convert_to_point(longs, lats)"
   ]
  },
  {
   "cell_type": "code",
   "execution_count": 62,
   "metadata": {},
   "outputs": [
    {
     "data": {
      "text/html": [
       "<div>\n",
       "<style>\n",
       "    .dataframe thead tr:only-child th {\n",
       "        text-align: right;\n",
       "    }\n",
       "\n",
       "    .dataframe thead th {\n",
       "        text-align: left;\n",
       "    }\n",
       "\n",
       "    .dataframe tbody tr th {\n",
       "        vertical-align: top;\n",
       "    }\n",
       "</style>\n",
       "<table border=\"1\" class=\"dataframe\">\n",
       "  <thead>\n",
       "    <tr style=\"text-align: right;\">\n",
       "      <th></th>\n",
       "      <th>GTFS Latitude</th>\n",
       "      <th>GTFS Longitude</th>\n",
       "      <th>points</th>\n",
       "    </tr>\n",
       "  </thead>\n",
       "  <tbody>\n",
       "    <tr>\n",
       "      <th>0</th>\n",
       "      <td>40.725297</td>\n",
       "      <td>-73.996204</td>\n",
       "      <td>POINT (-5415907.726113115 2330758.689348908)</td>\n",
       "    </tr>\n",
       "    <tr>\n",
       "      <th>1</th>\n",
       "      <td>40.681380</td>\n",
       "      <td>-73.956848</td>\n",
       "      <td>POINT (-5420490.720184836 2323312.868763227)</td>\n",
       "    </tr>\n",
       "    <tr>\n",
       "      <th>2</th>\n",
       "      <td>40.713282</td>\n",
       "      <td>-74.006978</td>\n",
       "      <td>POINT (-5418337.3848751 2331236.897295345)</td>\n",
       "    </tr>\n",
       "    <tr>\n",
       "      <th>3</th>\n",
       "      <td>40.802098</td>\n",
       "      <td>-73.949625</td>\n",
       "      <td>POINT (-5401614.123335132 2330315.018892818)</td>\n",
       "    </tr>\n",
       "    <tr>\n",
       "      <th>4</th>\n",
       "      <td>40.790600</td>\n",
       "      <td>-73.947478</td>\n",
       "      <td>POINT (-5403255.90057637 2329319.730975604)</td>\n",
       "    </tr>\n",
       "  </tbody>\n",
       "</table>\n",
       "</div>"
      ],
      "text/plain": [
       "   GTFS Latitude  GTFS Longitude                                        points\n",
       "0      40.725297      -73.996204  POINT (-5415907.726113115 2330758.689348908)\n",
       "1      40.681380      -73.956848  POINT (-5420490.720184836 2323312.868763227)\n",
       "2      40.713282      -74.006978    POINT (-5418337.3848751 2331236.897295345)\n",
       "3      40.802098      -73.949625  POINT (-5401614.123335132 2330315.018892818)\n",
       "4      40.790600      -73.947478   POINT (-5403255.90057637 2329319.730975604)"
      ]
     },
     "execution_count": 62,
     "metadata": {},
     "output_type": "execute_result"
    }
   ],
   "source": [
    "lat_longs.head()"
   ]
  },
  {
   "cell_type": "markdown",
   "metadata": {},
   "source": [
    "Now I can merge the projected points back to my full dataframe"
   ]
  },
  {
   "cell_type": "code",
   "execution_count": 63,
   "metadata": {},
   "outputs": [
    {
     "data": {
      "text/html": [
       "<div>\n",
       "<style>\n",
       "    .dataframe thead tr:only-child th {\n",
       "        text-align: right;\n",
       "    }\n",
       "\n",
       "    .dataframe thead th {\n",
       "        text-align: left;\n",
       "    }\n",
       "\n",
       "    .dataframe tbody tr th {\n",
       "        vertical-align: top;\n",
       "    }\n",
       "</style>\n",
       "<table border=\"1\" class=\"dataframe\">\n",
       "  <thead>\n",
       "    <tr style=\"text-align: right;\">\n",
       "      <th></th>\n",
       "      <th>c/a</th>\n",
       "      <th>unit</th>\n",
       "      <th>scp</th>\n",
       "      <th>station</th>\n",
       "      <th>linename</th>\n",
       "      <th>division</th>\n",
       "      <th>date</th>\n",
       "      <th>time</th>\n",
       "      <th>desc</th>\n",
       "      <th>entries</th>\n",
       "      <th>...</th>\n",
       "      <th>exit_outlier</th>\n",
       "      <th>all_traffic</th>\n",
       "      <th>week</th>\n",
       "      <th>hour</th>\n",
       "      <th>GTFS Stop ID</th>\n",
       "      <th>Stop Name</th>\n",
       "      <th>Borough</th>\n",
       "      <th>GTFS Latitude</th>\n",
       "      <th>GTFS Longitude</th>\n",
       "      <th>points</th>\n",
       "    </tr>\n",
       "  </thead>\n",
       "  <tbody>\n",
       "    <tr>\n",
       "      <th>0</th>\n",
       "      <td>N519</td>\n",
       "      <td>R461</td>\n",
       "      <td>00-03-01</td>\n",
       "      <td>B'WAY-LAFAYETTE</td>\n",
       "      <td>BDFQ6</td>\n",
       "      <td>IND</td>\n",
       "      <td>03/25/2017</td>\n",
       "      <td>05:00:00</td>\n",
       "      <td>REGULAR</td>\n",
       "      <td>17310033</td>\n",
       "      <td>...</td>\n",
       "      <td>False</td>\n",
       "      <td>23.0</td>\n",
       "      <td>12</td>\n",
       "      <td>5</td>\n",
       "      <td>D21</td>\n",
       "      <td>Broadway-Lafayette St</td>\n",
       "      <td>M</td>\n",
       "      <td>40.725297</td>\n",
       "      <td>-73.996204</td>\n",
       "      <td>POINT (-5415907.726113115 2330758.689348908)</td>\n",
       "    </tr>\n",
       "    <tr>\n",
       "      <th>1</th>\n",
       "      <td>N519</td>\n",
       "      <td>R461</td>\n",
       "      <td>00-03-01</td>\n",
       "      <td>B'WAY-LAFAYETTE</td>\n",
       "      <td>BDFQ6</td>\n",
       "      <td>IND</td>\n",
       "      <td>03/25/2017</td>\n",
       "      <td>09:00:00</td>\n",
       "      <td>REGULAR</td>\n",
       "      <td>17310048</td>\n",
       "      <td>...</td>\n",
       "      <td>False</td>\n",
       "      <td>72.0</td>\n",
       "      <td>12</td>\n",
       "      <td>9</td>\n",
       "      <td>D21</td>\n",
       "      <td>Broadway-Lafayette St</td>\n",
       "      <td>M</td>\n",
       "      <td>40.725297</td>\n",
       "      <td>-73.996204</td>\n",
       "      <td>POINT (-5415907.726113115 2330758.689348908)</td>\n",
       "    </tr>\n",
       "    <tr>\n",
       "      <th>2</th>\n",
       "      <td>N519</td>\n",
       "      <td>R461</td>\n",
       "      <td>00-03-01</td>\n",
       "      <td>B'WAY-LAFAYETTE</td>\n",
       "      <td>BDFQ6</td>\n",
       "      <td>IND</td>\n",
       "      <td>03/25/2017</td>\n",
       "      <td>13:00:00</td>\n",
       "      <td>REGULAR</td>\n",
       "      <td>17310132</td>\n",
       "      <td>...</td>\n",
       "      <td>False</td>\n",
       "      <td>375.0</td>\n",
       "      <td>12</td>\n",
       "      <td>13</td>\n",
       "      <td>D21</td>\n",
       "      <td>Broadway-Lafayette St</td>\n",
       "      <td>M</td>\n",
       "      <td>40.725297</td>\n",
       "      <td>-73.996204</td>\n",
       "      <td>POINT (-5415907.726113115 2330758.689348908)</td>\n",
       "    </tr>\n",
       "    <tr>\n",
       "      <th>3</th>\n",
       "      <td>N519</td>\n",
       "      <td>R461</td>\n",
       "      <td>00-03-01</td>\n",
       "      <td>B'WAY-LAFAYETTE</td>\n",
       "      <td>BDFQ6</td>\n",
       "      <td>IND</td>\n",
       "      <td>03/25/2017</td>\n",
       "      <td>17:00:00</td>\n",
       "      <td>REGULAR</td>\n",
       "      <td>17310413</td>\n",
       "      <td>...</td>\n",
       "      <td>False</td>\n",
       "      <td>774.0</td>\n",
       "      <td>12</td>\n",
       "      <td>17</td>\n",
       "      <td>D21</td>\n",
       "      <td>Broadway-Lafayette St</td>\n",
       "      <td>M</td>\n",
       "      <td>40.725297</td>\n",
       "      <td>-73.996204</td>\n",
       "      <td>POINT (-5415907.726113115 2330758.689348908)</td>\n",
       "    </tr>\n",
       "    <tr>\n",
       "      <th>4</th>\n",
       "      <td>N519</td>\n",
       "      <td>R461</td>\n",
       "      <td>00-03-01</td>\n",
       "      <td>B'WAY-LAFAYETTE</td>\n",
       "      <td>BDFQ6</td>\n",
       "      <td>IND</td>\n",
       "      <td>03/25/2017</td>\n",
       "      <td>21:00:00</td>\n",
       "      <td>REGULAR</td>\n",
       "      <td>17310743</td>\n",
       "      <td>...</td>\n",
       "      <td>False</td>\n",
       "      <td>664.0</td>\n",
       "      <td>12</td>\n",
       "      <td>21</td>\n",
       "      <td>D21</td>\n",
       "      <td>Broadway-Lafayette St</td>\n",
       "      <td>M</td>\n",
       "      <td>40.725297</td>\n",
       "      <td>-73.996204</td>\n",
       "      <td>POINT (-5415907.726113115 2330758.689348908)</td>\n",
       "    </tr>\n",
       "  </tbody>\n",
       "</table>\n",
       "<p>5 rows × 32 columns</p>\n",
       "</div>"
      ],
      "text/plain": [
       "    c/a  unit       scp          station linename division        date  \\\n",
       "0  N519  R461  00-03-01  B'WAY-LAFAYETTE    BDFQ6      IND  03/25/2017   \n",
       "1  N519  R461  00-03-01  B'WAY-LAFAYETTE    BDFQ6      IND  03/25/2017   \n",
       "2  N519  R461  00-03-01  B'WAY-LAFAYETTE    BDFQ6      IND  03/25/2017   \n",
       "3  N519  R461  00-03-01  B'WAY-LAFAYETTE    BDFQ6      IND  03/25/2017   \n",
       "4  N519  R461  00-03-01  B'WAY-LAFAYETTE    BDFQ6      IND  03/25/2017   \n",
       "\n",
       "       time     desc   entries                      ...                       \\\n",
       "0  05:00:00  REGULAR  17310033                      ...                        \n",
       "1  09:00:00  REGULAR  17310048                      ...                        \n",
       "2  13:00:00  REGULAR  17310132                      ...                        \n",
       "3  17:00:00  REGULAR  17310413                      ...                        \n",
       "4  21:00:00  REGULAR  17310743                      ...                        \n",
       "\n",
       "   exit_outlier all_traffic week  hour GTFS Stop ID              Stop Name  \\\n",
       "0         False        23.0   12     5          D21  Broadway-Lafayette St   \n",
       "1         False        72.0   12     9          D21  Broadway-Lafayette St   \n",
       "2         False       375.0   12    13          D21  Broadway-Lafayette St   \n",
       "3         False       774.0   12    17          D21  Broadway-Lafayette St   \n",
       "4         False       664.0   12    21          D21  Broadway-Lafayette St   \n",
       "\n",
       "   Borough GTFS Latitude  GTFS Longitude  \\\n",
       "0        M     40.725297      -73.996204   \n",
       "1        M     40.725297      -73.996204   \n",
       "2        M     40.725297      -73.996204   \n",
       "3        M     40.725297      -73.996204   \n",
       "4        M     40.725297      -73.996204   \n",
       "\n",
       "                                         points  \n",
       "0  POINT (-5415907.726113115 2330758.689348908)  \n",
       "1  POINT (-5415907.726113115 2330758.689348908)  \n",
       "2  POINT (-5415907.726113115 2330758.689348908)  \n",
       "3  POINT (-5415907.726113115 2330758.689348908)  \n",
       "4  POINT (-5415907.726113115 2330758.689348908)  \n",
       "\n",
       "[5 rows x 32 columns]"
      ]
     },
     "execution_count": 63,
     "metadata": {},
     "output_type": "execute_result"
    }
   ],
   "source": [
    "turns_pts = pd.merge(turns, lat_longs, how='left', on=['GTFS Latitude', 'GTFS Longitude'])\n",
    "turns_pts.head()"
   ]
  },
  {
   "cell_type": "code",
   "execution_count": 70,
   "metadata": {
    "collapsed": true
   },
   "outputs": [],
   "source": [
    "# Write out to CSV for Tableau testing \n",
    "turns_pts.to_csv('zipfile_test/turns_locations.csv', index=False)"
   ]
  },
  {
   "cell_type": "markdown",
   "metadata": {},
   "source": [
    "Find points within certain radius"
   ]
  },
  {
   "cell_type": "code",
   "execution_count": 69,
   "metadata": {},
   "outputs": [
    {
     "name": "stdout",
     "output_type": "stream",
     "text": [
      "POINT (-5415907.726113115 2330758.689348908)\n"
     ]
    }
   ],
   "source": [
    "central_pt = turns_pts.loc[0, 'points']\n",
    "print(central_pt)"
   ]
  },
  {
   "cell_type": "code",
   "execution_count": null,
   "metadata": {
    "collapsed": true
   },
   "outputs": [],
   "source": []
  }
 ],
 "metadata": {
  "kernelspec": {
   "display_name": "Python 3",
   "language": "python",
   "name": "python3"
  },
  "language_info": {
   "codemirror_mode": {
    "name": "ipython",
    "version": 3
   },
   "file_extension": ".py",
   "mimetype": "text/x-python",
   "name": "python",
   "nbconvert_exporter": "python",
   "pygments_lexer": "ipython3",
   "version": "3.6.3"
  },
  "toc": {
   "nav_menu": {},
   "number_sections": true,
   "sideBar": true,
   "skip_h1_title": false,
   "title_cell": "Table of Contents",
   "title_sidebar": "Contents",
   "toc_cell": false,
   "toc_position": {},
   "toc_section_display": true,
   "toc_window_display": false
  },
  "varInspector": {
   "cols": {
    "lenName": 16,
    "lenType": 16,
    "lenVar": 40
   },
   "kernels_config": {
    "python": {
     "delete_cmd_postfix": "",
     "delete_cmd_prefix": "del ",
     "library": "var_list.py",
     "varRefreshCmd": "print(var_dic_list())"
    },
    "r": {
     "delete_cmd_postfix": ") ",
     "delete_cmd_prefix": "rm(",
     "library": "var_list.r",
     "varRefreshCmd": "cat(var_dic_list()) "
    }
   },
   "types_to_exclude": [
    "module",
    "function",
    "builtin_function_or_method",
    "instance",
    "_Feature"
   ],
   "window_display": false
  }
 },
 "nbformat": 4,
 "nbformat_minor": 2
}
