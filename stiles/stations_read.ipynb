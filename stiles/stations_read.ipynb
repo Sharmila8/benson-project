{
 "cells": [
  {
   "cell_type": "code",
   "execution_count": 21,
   "metadata": {},
   "outputs": [
    {
     "name": "stdout",
     "output_type": "stream",
     "text": [
      "Populating the interactive namespace from numpy and matplotlib\n"
     ]
    }
   ],
   "source": [
    "import pandas as pd\n",
    "import matplotlib.pyplot as plt\n",
    "import datetime\n",
    "%pylab inline"
   ]
  },
  {
   "cell_type": "code",
   "execution_count": 2,
   "metadata": {
    "collapsed": true
   },
   "outputs": [],
   "source": [
    "#read raw turnstile data into dataframe\n",
    "\n",
    "df = pd.read_csv('turnstile_test.csv')"
   ]
  },
  {
   "cell_type": "code",
   "execution_count": 27,
   "metadata": {},
   "outputs": [
    {
     "name": "stdout",
     "output_type": "stream",
     "text": [
      "<class 'pandas.core.frame.DataFrame'>\n",
      "RangeIndex: 201118 entries, 0 to 201117\n",
      "Data columns (total 5 columns):\n",
      "entries           201118 non-null int64\n",
      "exits             201118 non-null int64\n",
      "id                201118 non-null object\n",
      "datetime          201118 non-null object\n",
      "datetime_clean    201118 non-null datetime64[ns]\n",
      "dtypes: datetime64[ns](1), int64(2), object(2)\n",
      "memory usage: 7.7+ MB\n"
     ]
    }
   ],
   "source": [
    "#cleaning up the columns and merging id + datetime\n",
    "\n",
    "df = df.rename(columns=lambda x: x.strip().lower())\n",
    "\n",
    "df['id'] = df['station'].map(str) + ' ' + df['scp']\n",
    "df['datetime'] = df['date'] + ' ' + df['time']\n",
    "\n",
    "clean_df = df.drop(columns=['c/a', 'unit', 'scp', 'station', 'linename', 'division', 'date', 'time', 'desc'])\n",
    "\n",
    "clean_df['datetime_clean'] = [datetime.datetime.strptime(x, '%m/%d/%Y %H:%M:%S') for x in clean_df['datetime']]\n",
    "clean_df.info()"
   ]
  },
  {
   "cell_type": "code",
   "execution_count": 9,
   "metadata": {},
   "outputs": [],
   "source": [
    "def column_diff(df, col):\n",
    "    \"\"\"\n",
    "    takes a dataframe and a column with numeric values\n",
    "    finds the index for min and max values within the column\n",
    "    returns the difference between min and max values\n",
    "    \"\"\"\n",
    "    max_index = df[col].idxmax()\n",
    "    min_index = df[col].idxmin()\n",
    "    \n",
    "    total = df.loc[max_index].get(col) - df.loc[min_index].get(col)\n",
    "    \n",
    "    return total"
   ]
  },
  {
   "cell_type": "code",
   "execution_count": 20,
   "metadata": {},
   "outputs": [
    {
     "ename": "AttributeError",
     "evalue": "'generator' object has no attribute 'head'",
     "output_type": "error",
     "traceback": [
      "\u001b[0;31m---------------------------------------------------------------------------\u001b[0m",
      "\u001b[0;31mAttributeError\u001b[0m                            Traceback (most recent call last)",
      "\u001b[0;32m<ipython-input-20-785a785e5898>\u001b[0m in \u001b[0;36m<module>\u001b[0;34m()\u001b[0m\n\u001b[1;32m      1\u001b[0m \u001b[0mnew_df\u001b[0m \u001b[0;34m=\u001b[0m \u001b[0mclean_df\u001b[0m\u001b[0;34m.\u001b[0m\u001b[0miterrows\u001b[0m\u001b[0;34m(\u001b[0m\u001b[0;34m)\u001b[0m\u001b[0;34m\u001b[0m\u001b[0m\n\u001b[0;32m----> 2\u001b[0;31m \u001b[0mnew_df\u001b[0m\u001b[0;34m.\u001b[0m\u001b[0mhead\u001b[0m\u001b[0;34m(\u001b[0m\u001b[0;36m10\u001b[0m\u001b[0;34m)\u001b[0m\u001b[0;34m\u001b[0m\u001b[0m\n\u001b[0m",
      "\u001b[0;31mAttributeError\u001b[0m: 'generator' object has no attribute 'head'"
     ]
    }
   ],
   "source": [
    "new_df = clean_df.iterrows()"
   ]
  },
  {
   "cell_type": "code",
   "execution_count": null,
   "metadata": {
    "collapsed": true
   },
   "outputs": [],
   "source": []
  }
 ],
 "metadata": {
  "kernelspec": {
   "display_name": "Python 3",
   "language": "python",
   "name": "python3"
  },
  "language_info": {
   "codemirror_mode": {
    "name": "ipython",
    "version": 3
   },
   "file_extension": ".py",
   "mimetype": "text/x-python",
   "name": "python",
   "nbconvert_exporter": "python",
   "pygments_lexer": "ipython3",
   "version": "3.6.3"
  }
 },
 "nbformat": 4,
 "nbformat_minor": 2
}
