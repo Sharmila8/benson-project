{
 "cells": [
  {
   "cell_type": "code",
   "execution_count": 21,
   "metadata": {},
   "outputs": [
    {
     "name": "stdout",
     "output_type": "stream",
     "text": [
      "Populating the interactive namespace from numpy and matplotlib\n"
     ]
    }
   ],
   "source": [
    "import pandas as pd\n",
    "import matplotlib.pyplot as plt\n",
    "import datetime\n",
    "%pylab inline"
   ]
  },
  {
   "cell_type": "code",
   "execution_count": 2,
   "metadata": {
    "collapsed": true
   },
   "outputs": [],
   "source": [
    "#read raw turnstile data into dataframe\n",
    "\n",
    "df = pd.read_csv('turnstile_test.csv')"
   ]
  },
  {
   "cell_type": "code",
   "execution_count": 27,
   "metadata": {},
   "outputs": [
    {
     "name": "stdout",
     "output_type": "stream",
     "text": [
      "<class 'pandas.core.frame.DataFrame'>\n",
      "RangeIndex: 201118 entries, 0 to 201117\n",
      "Data columns (total 5 columns):\n",
      "entries           201118 non-null int64\n",
      "exits             201118 non-null int64\n",
      "id                201118 non-null object\n",
      "datetime          201118 non-null object\n",
      "datetime_clean    201118 non-null datetime64[ns]\n",
      "dtypes: datetime64[ns](1), int64(2), object(2)\n",
      "memory usage: 7.7+ MB\n"
     ]
    }
   ],
   "source": [
    "#cleaning up the columns and merging id + datetime\n",
    "\n",
    "df = df.rename(columns=lambda x: x.strip().lower())\n",
    "\n",
    "df['id'] = df['station'].map(str) + ' ' + df['scp']\n",
    "df['datetime'] = df['date'] + ' ' + df['time']\n",
    "\n",
    "clean_df = df.drop(columns=['c/a', 'unit', 'scp', 'station', 'linename', 'division', 'date', 'time', 'desc'])\n",
    "\n",
    "clean_df['datetime_clean'] = [datetime.datetime.strptime(x, '%m/%d/%Y %H:%M:%S') for x in clean_df['datetime']]\n",
    "clean_df.info()"
   ]
  },
  {
   "cell_type": "code",
   "execution_count": 9,
   "metadata": {},
   "outputs": [],
   "source": [
    "def column_diff(df, col):\n",
    "    \"\"\"\n",
    "    takes a dataframe and a column with numeric values\n",
    "    finds the index for min and max values within the column\n",
    "    returns the difference between min and max values\n",
    "    \"\"\"\n",
    "    max_index = df[col].idxmax()\n",
    "    min_index = df[col].idxmin()\n",
    "    \n",
    "    total = df.loc[max_index].get(col) - df.loc[min_index].get(col)\n",
    "    \n",
    "    return total"
   ]
  },
  {
   "cell_type": "code",
   "execution_count": 28,
   "metadata": {},
   "outputs": [],
   "source": [
    "clean_df['entries_diff'] = clean_df.groupby('id')['entries'].diff()"
   ]
  },
  {
   "cell_type": "code",
   "execution_count": 29,
   "metadata": {},
   "outputs": [
    {
     "data": {
      "text/html": [
       "<div>\n",
       "<style scoped>\n",
       "    .dataframe tbody tr th:only-of-type {\n",
       "        vertical-align: middle;\n",
       "    }\n",
       "\n",
       "    .dataframe tbody tr th {\n",
       "        vertical-align: top;\n",
       "    }\n",
       "\n",
       "    .dataframe thead th {\n",
       "        text-align: right;\n",
       "    }\n",
       "</style>\n",
       "<table border=\"1\" class=\"dataframe\">\n",
       "  <thead>\n",
       "    <tr style=\"text-align: right;\">\n",
       "      <th></th>\n",
       "      <th>entries</th>\n",
       "      <th>exits</th>\n",
       "      <th>id</th>\n",
       "      <th>datetime</th>\n",
       "      <th>datetime_clean</th>\n",
       "      <th>entries_diff</th>\n",
       "    </tr>\n",
       "  </thead>\n",
       "  <tbody>\n",
       "    <tr>\n",
       "      <th>0</th>\n",
       "      <td>6470216</td>\n",
       "      <td>2190123</td>\n",
       "      <td>59 ST 02-00-00</td>\n",
       "      <td>01/06/2018 03:00:00</td>\n",
       "      <td>2018-01-06 03:00:00</td>\n",
       "      <td>NaN</td>\n",
       "    </tr>\n",
       "    <tr>\n",
       "      <th>1</th>\n",
       "      <td>6470223</td>\n",
       "      <td>2190140</td>\n",
       "      <td>59 ST 02-00-00</td>\n",
       "      <td>01/06/2018 07:00:00</td>\n",
       "      <td>2018-01-06 07:00:00</td>\n",
       "      <td>7.0</td>\n",
       "    </tr>\n",
       "    <tr>\n",
       "      <th>2</th>\n",
       "      <td>6470256</td>\n",
       "      <td>2190229</td>\n",
       "      <td>59 ST 02-00-00</td>\n",
       "      <td>01/06/2018 11:00:00</td>\n",
       "      <td>2018-01-06 11:00:00</td>\n",
       "      <td>33.0</td>\n",
       "    </tr>\n",
       "    <tr>\n",
       "      <th>3</th>\n",
       "      <td>6470379</td>\n",
       "      <td>2190299</td>\n",
       "      <td>59 ST 02-00-00</td>\n",
       "      <td>01/06/2018 15:00:00</td>\n",
       "      <td>2018-01-06 15:00:00</td>\n",
       "      <td>123.0</td>\n",
       "    </tr>\n",
       "    <tr>\n",
       "      <th>4</th>\n",
       "      <td>6470665</td>\n",
       "      <td>2190366</td>\n",
       "      <td>59 ST 02-00-00</td>\n",
       "      <td>01/06/2018 19:00:00</td>\n",
       "      <td>2018-01-06 19:00:00</td>\n",
       "      <td>286.0</td>\n",
       "    </tr>\n",
       "    <tr>\n",
       "      <th>5</th>\n",
       "      <td>6470809</td>\n",
       "      <td>2190398</td>\n",
       "      <td>59 ST 02-00-00</td>\n",
       "      <td>01/06/2018 23:00:00</td>\n",
       "      <td>2018-01-06 23:00:00</td>\n",
       "      <td>144.0</td>\n",
       "    </tr>\n",
       "    <tr>\n",
       "      <th>6</th>\n",
       "      <td>6470843</td>\n",
       "      <td>2190405</td>\n",
       "      <td>59 ST 02-00-00</td>\n",
       "      <td>01/07/2018 03:00:00</td>\n",
       "      <td>2018-01-07 03:00:00</td>\n",
       "      <td>34.0</td>\n",
       "    </tr>\n",
       "    <tr>\n",
       "      <th>7</th>\n",
       "      <td>6470849</td>\n",
       "      <td>2190411</td>\n",
       "      <td>59 ST 02-00-00</td>\n",
       "      <td>01/07/2018 07:00:00</td>\n",
       "      <td>2018-01-07 07:00:00</td>\n",
       "      <td>6.0</td>\n",
       "    </tr>\n",
       "    <tr>\n",
       "      <th>8</th>\n",
       "      <td>6470884</td>\n",
       "      <td>2190488</td>\n",
       "      <td>59 ST 02-00-00</td>\n",
       "      <td>01/07/2018 11:00:00</td>\n",
       "      <td>2018-01-07 11:00:00</td>\n",
       "      <td>35.0</td>\n",
       "    </tr>\n",
       "    <tr>\n",
       "      <th>9</th>\n",
       "      <td>6471042</td>\n",
       "      <td>2190530</td>\n",
       "      <td>59 ST 02-00-00</td>\n",
       "      <td>01/07/2018 15:00:00</td>\n",
       "      <td>2018-01-07 15:00:00</td>\n",
       "      <td>158.0</td>\n",
       "    </tr>\n",
       "  </tbody>\n",
       "</table>\n",
       "</div>"
      ],
      "text/plain": [
       "   entries    exits              id             datetime      datetime_clean  \\\n",
       "0  6470216  2190123  59 ST 02-00-00  01/06/2018 03:00:00 2018-01-06 03:00:00   \n",
       "1  6470223  2190140  59 ST 02-00-00  01/06/2018 07:00:00 2018-01-06 07:00:00   \n",
       "2  6470256  2190229  59 ST 02-00-00  01/06/2018 11:00:00 2018-01-06 11:00:00   \n",
       "3  6470379  2190299  59 ST 02-00-00  01/06/2018 15:00:00 2018-01-06 15:00:00   \n",
       "4  6470665  2190366  59 ST 02-00-00  01/06/2018 19:00:00 2018-01-06 19:00:00   \n",
       "5  6470809  2190398  59 ST 02-00-00  01/06/2018 23:00:00 2018-01-06 23:00:00   \n",
       "6  6470843  2190405  59 ST 02-00-00  01/07/2018 03:00:00 2018-01-07 03:00:00   \n",
       "7  6470849  2190411  59 ST 02-00-00  01/07/2018 07:00:00 2018-01-07 07:00:00   \n",
       "8  6470884  2190488  59 ST 02-00-00  01/07/2018 11:00:00 2018-01-07 11:00:00   \n",
       "9  6471042  2190530  59 ST 02-00-00  01/07/2018 15:00:00 2018-01-07 15:00:00   \n",
       "\n",
       "   entries_diff  \n",
       "0           NaN  \n",
       "1           7.0  \n",
       "2          33.0  \n",
       "3         123.0  \n",
       "4         286.0  \n",
       "5         144.0  \n",
       "6          34.0  \n",
       "7           6.0  \n",
       "8          35.0  \n",
       "9         158.0  "
      ]
     },
     "execution_count": 29,
     "metadata": {},
     "output_type": "execute_result"
    }
   ],
   "source": [
    "clean_df.head(10)"
   ]
  },
  {
   "cell_type": "code",
   "execution_count": null,
   "metadata": {
    "collapsed": true
   },
   "outputs": [],
   "source": []
  }
 ],
 "metadata": {
  "kernelspec": {
   "display_name": "Python 3",
   "language": "python",
   "name": "python3"
  },
  "language_info": {
   "codemirror_mode": {
    "name": "ipython",
    "version": 3
   },
   "file_extension": ".py",
   "mimetype": "text/x-python",
   "name": "python",
   "nbconvert_exporter": "python",
   "pygments_lexer": "ipython3",
   "version": "3.6.3"
  }
 },
 "nbformat": 4,
 "nbformat_minor": 2
}
