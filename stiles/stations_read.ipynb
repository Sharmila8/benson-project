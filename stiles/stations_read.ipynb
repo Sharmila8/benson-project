{
 "cells": [
  {
   "cell_type": "code",
   "execution_count": 1,
   "metadata": {},
   "outputs": [
    {
     "name": "stdout",
     "output_type": "stream",
     "text": [
      "Populating the interactive namespace from numpy and matplotlib\n"
     ]
    }
   ],
   "source": [
    "import pandas as pd\n",
    "import matplotlib.pyplot as plt\n",
    "%pylab inline"
   ]
  },
  {
   "cell_type": "code",
   "execution_count": 2,
   "metadata": {
    "collapsed": true
   },
   "outputs": [],
   "source": [
    "#read raw turnstile data into dataframe\n",
    "\n",
    "df = pd.read_csv('turnstile_test.csv')"
   ]
  },
  {
   "cell_type": "code",
   "execution_count": 12,
   "metadata": {},
   "outputs": [
    {
     "data": {
      "text/html": [
       "<div>\n",
       "<style scoped>\n",
       "    .dataframe tbody tr th:only-of-type {\n",
       "        vertical-align: middle;\n",
       "    }\n",
       "\n",
       "    .dataframe tbody tr th {\n",
       "        vertical-align: top;\n",
       "    }\n",
       "\n",
       "    .dataframe thead th {\n",
       "        text-align: right;\n",
       "    }\n",
       "</style>\n",
       "<table border=\"1\" class=\"dataframe\">\n",
       "  <thead>\n",
       "    <tr style=\"text-align: right;\">\n",
       "      <th></th>\n",
       "      <th>entries</th>\n",
       "      <th>exits</th>\n",
       "      <th>id</th>\n",
       "      <th>datetime</th>\n",
       "    </tr>\n",
       "  </thead>\n",
       "  <tbody>\n",
       "    <tr>\n",
       "      <th>0</th>\n",
       "      <td>6470216</td>\n",
       "      <td>2190123</td>\n",
       "      <td>59 ST 02-00-00</td>\n",
       "      <td>01/06/2018 03:00:00</td>\n",
       "    </tr>\n",
       "    <tr>\n",
       "      <th>1</th>\n",
       "      <td>6470223</td>\n",
       "      <td>2190140</td>\n",
       "      <td>59 ST 02-00-00</td>\n",
       "      <td>01/06/2018 07:00:00</td>\n",
       "    </tr>\n",
       "    <tr>\n",
       "      <th>2</th>\n",
       "      <td>6470256</td>\n",
       "      <td>2190229</td>\n",
       "      <td>59 ST 02-00-00</td>\n",
       "      <td>01/06/2018 11:00:00</td>\n",
       "    </tr>\n",
       "    <tr>\n",
       "      <th>3</th>\n",
       "      <td>6470379</td>\n",
       "      <td>2190299</td>\n",
       "      <td>59 ST 02-00-00</td>\n",
       "      <td>01/06/2018 15:00:00</td>\n",
       "    </tr>\n",
       "    <tr>\n",
       "      <th>4</th>\n",
       "      <td>6470665</td>\n",
       "      <td>2190366</td>\n",
       "      <td>59 ST 02-00-00</td>\n",
       "      <td>01/06/2018 19:00:00</td>\n",
       "    </tr>\n",
       "    <tr>\n",
       "      <th>5</th>\n",
       "      <td>6470809</td>\n",
       "      <td>2190398</td>\n",
       "      <td>59 ST 02-00-00</td>\n",
       "      <td>01/06/2018 23:00:00</td>\n",
       "    </tr>\n",
       "    <tr>\n",
       "      <th>6</th>\n",
       "      <td>6470843</td>\n",
       "      <td>2190405</td>\n",
       "      <td>59 ST 02-00-00</td>\n",
       "      <td>01/07/2018 03:00:00</td>\n",
       "    </tr>\n",
       "    <tr>\n",
       "      <th>7</th>\n",
       "      <td>6470849</td>\n",
       "      <td>2190411</td>\n",
       "      <td>59 ST 02-00-00</td>\n",
       "      <td>01/07/2018 07:00:00</td>\n",
       "    </tr>\n",
       "    <tr>\n",
       "      <th>8</th>\n",
       "      <td>6470884</td>\n",
       "      <td>2190488</td>\n",
       "      <td>59 ST 02-00-00</td>\n",
       "      <td>01/07/2018 11:00:00</td>\n",
       "    </tr>\n",
       "    <tr>\n",
       "      <th>9</th>\n",
       "      <td>6471042</td>\n",
       "      <td>2190530</td>\n",
       "      <td>59 ST 02-00-00</td>\n",
       "      <td>01/07/2018 15:00:00</td>\n",
       "    </tr>\n",
       "  </tbody>\n",
       "</table>\n",
       "</div>"
      ],
      "text/plain": [
       "   entries    exits              id             datetime\n",
       "0  6470216  2190123  59 ST 02-00-00  01/06/2018 03:00:00\n",
       "1  6470223  2190140  59 ST 02-00-00  01/06/2018 07:00:00\n",
       "2  6470256  2190229  59 ST 02-00-00  01/06/2018 11:00:00\n",
       "3  6470379  2190299  59 ST 02-00-00  01/06/2018 15:00:00\n",
       "4  6470665  2190366  59 ST 02-00-00  01/06/2018 19:00:00\n",
       "5  6470809  2190398  59 ST 02-00-00  01/06/2018 23:00:00\n",
       "6  6470843  2190405  59 ST 02-00-00  01/07/2018 03:00:00\n",
       "7  6470849  2190411  59 ST 02-00-00  01/07/2018 07:00:00\n",
       "8  6470884  2190488  59 ST 02-00-00  01/07/2018 11:00:00\n",
       "9  6471042  2190530  59 ST 02-00-00  01/07/2018 15:00:00"
      ]
     },
     "execution_count": 12,
     "metadata": {},
     "output_type": "execute_result"
    }
   ],
   "source": [
    "#cleaning up the columns and merging id + datetime\n",
    "\n",
    "df = df.rename(columns=lambda x: x.strip().lower())\n",
    "\n",
    "df['id'] = df['station'].map(str) + ' ' + df['scp']\n",
    "df['datetime'] = df['date'] + ' ' + df['time']\n",
    "\n",
    "clean_df = df.drop(columns=['c/a', 'unit', 'scp', 'station', 'linename', 'division', 'date', 'time', 'desc'])\n",
    "clean_df.head(10)"
   ]
  },
  {
   "cell_type": "code",
   "execution_count": 9,
   "metadata": {},
   "outputs": [],
   "source": [
    "def column_diff(df, col):\n",
    "    \"\"\"\n",
    "    takes a dataframe and a column with numeric values\n",
    "    finds the index for min and max values within the column\n",
    "    returns the difference between min and max values\n",
    "    \"\"\"\n",
    "    max_index = df[col].idxmax()\n",
    "    min_index = df[col].idxmin()\n",
    "    \n",
    "    total = df.loc[max_index].get(col) - df.loc[min_index].get(col)\n",
    "    \n",
    "    return total"
   ]
  },
  {
   "cell_type": "code",
   "execution_count": null,
   "metadata": {
    "collapsed": true
   },
   "outputs": [],
   "source": [
    "for row in clean_df:\n",
    "    "
   ]
  }
 ],
 "metadata": {
  "kernelspec": {
   "display_name": "Python 3",
   "language": "python",
   "name": "python3"
  },
  "language_info": {
   "codemirror_mode": {
    "name": "ipython",
    "version": 3
   },
   "file_extension": ".py",
   "mimetype": "text/x-python",
   "name": "python",
   "nbconvert_exporter": "python",
   "pygments_lexer": "ipython3",
   "version": "3.6.3"
  }
 },
 "nbformat": 4,
 "nbformat_minor": 2
}
