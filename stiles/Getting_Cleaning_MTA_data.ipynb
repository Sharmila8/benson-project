{
 "cells": [
  {
   "cell_type": "markdown",
   "metadata": {},
   "source": [
    "# Getting and cleaning the data"
   ]
  },
  {
   "cell_type": "markdown",
   "metadata": {},
   "source": [
    "## Step 1: Import Libraries\n",
    "We'll use the following libraries in this notebook:"
   ]
  },
  {
   "cell_type": "code",
   "execution_count": 3,
   "metadata": {
    "collapsed": true
   },
   "outputs": [],
   "source": [
    "import pandas as pd\n",
    "from datetime import datetime, timedelta\n",
    "import numpy as np\n",
    "from scipy.ndimage.interpolation import shift\n",
    "from collections import defaultdict"
   ]
  },
  {
   "cell_type": "markdown",
   "metadata": {},
   "source": [
    "## Step 2: Getting the right data \n",
    "We pulled in weekly turnstile data from the MTA portal: http://web.mta.info/developers/turnstile.html\n",
    "\n",
    "First, we create a list of the weeks we're interested in fetching data for"
   ]
  },
  {
   "cell_type": "code",
   "execution_count": 8,
   "metadata": {},
   "outputs": [],
   "source": [
    "# Define list of weeks we want to pull from the MTA portal\n",
    "\n",
    "def datelist(startdate):\n",
    "    \"\"\"\n",
    "    For a given Saturday, make a list of dates for the 14 previous Saturdays\n",
    "    \"\"\"\n",
    "    week_list = [startdate + ((timedelta(days=-7))*i) for i in range(14)]\n",
    "    clean_weeks = [i.strftime('%y%m%d') for i in week_list]\n",
    "    return clean_weeks\n",
    "\n",
    "\n",
    "# Define the last Saturday we're interested in for 2016 and 2017\n",
    "start17 = datetime(2017, 7, 1)\n",
    "start16 = datetime(2016, 7, 2)\n",
    "\n",
    "# We'll import data for the 14 weeks preceeding July 1st for both 2016 and 2017\n",
    "weeks_to_import = datelist(start17) + datelist(start16)"
   ]
  },
  {
   "cell_type": "markdown",
   "metadata": {},
   "source": [
    "We then iterate through our list of dates to pull weekly files from the MTA portal"
   ]
  },
  {
   "cell_type": "code",
   "execution_count": 11,
   "metadata": {},
   "outputs": [],
   "source": [
    "def loadturndata(date):\n",
    "    # Build the filename\n",
    "    strdate = str(date)\n",
    "    filename = 'http://web.mta.info/developers/data/nyct/turnstile/turnstile_'+strdate+'.txt'\n",
    "\n",
    "    # Read in the csv\n",
    "    df = pd.read_csv(filename)\n",
    "    return df\n",
    "\n",
    "\n",
    "def loadturnlist(dates):\n",
    "    \"\"\"\n",
    "    We'll iterarte through the list of weeks to create dataframes using loadturndata and then concat together into one dataframe \n",
    "    \"\"\"\n",
    "    data = pd.DataFrame()\n",
    "    x = []\n",
    "    for i in dates:\n",
    "        df = (loadturndata(i))\n",
    "        x.append(df)\n",
    "    data = pd.concat(x)\n",
    "    return data"
   ]
  },
  {
   "cell_type": "code",
   "execution_count": 17,
   "metadata": {
    "collapsed": true
   },
   "outputs": [],
   "source": [
    "# Note: This takes a few minutes to run - go treat yourself to a cup of tea!\n",
    "raw = loadturnlist(weeks_to_import)"
   ]
  },
  {
   "cell_type": "code",
   "execution_count": 37,
   "metadata": {},
   "outputs": [],
   "source": [
    "# Pickle the raw data in case things go south in the cleaning process and you need to start over from here\n",
    "raw.to_pickle('raw_turnstile_data.pkl')"
   ]
  },
  {
   "cell_type": "markdown",
   "metadata": {},
   "source": [
    "## Step 3: Cleaning the data\n",
    "All the fun stuff (jk!)"
   ]
  },
  {
   "cell_type": "markdown",
   "metadata": {},
   "source": [
    "Rename columns and add datetime columns"
   ]
  },
  {
   "cell_type": "code",
   "execution_count": 50,
   "metadata": {},
   "outputs": [],
   "source": [
    "# Rename columns\n",
    "df = raw.rename(columns=lambda x: x.strip().lower())\n",
    "\n",
    "# Concat date and time and convert to datetime object\n",
    "df['datetime'] = df['date'] + ' ' + df['time']\n",
    "df['datetime_clean'] = [datetime.strptime(x, '%m/%d/%Y %H:%M:%S') for x in df['datetime']]"
   ]
  },
  {
   "cell_type": "code",
   "execution_count": 51,
   "metadata": {
    "collapsed": true
   },
   "outputs": [],
   "source": [
    "# Add some helpful date-part columns\n",
    "df['year'] = [x.year for x in df['datetime_clean']]\n",
    "df['weekday'] = df[['datetime_clean']].apply(lambda x: datetime.strftime(x['datetime_clean'], '%A'), axis=1)"
   ]
  },
  {
   "cell_type": "markdown",
   "metadata": {},
   "source": [
    "Create group ID for partioning off counts for distinct turnstiles when ordered by datetime"
   ]
  },
  {
   "cell_type": "code",
   "execution_count": 52,
   "metadata": {},
   "outputs": [],
   "source": [
    "# Create group ID for distinct turnstiles\n",
    "df['group'] = df['c/a'].astype(str) + \\\n",
    "                df['unit'].astype(str) + \\\n",
    "                df['scp'].astype(str) + \\\n",
    "                df['station'].astype(str)  + \\\n",
    "                df['linename'].astype(str) + \\\n",
    "                df['division'].astype(str) + \\\n",
    "                df['year'].astype(str)\n",
    "                \n",
    "# Map 'group' string to integer id     \n",
    "groups = set(df['group'])\n",
    "\n",
    "\n",
    "def groups_dict(groups):\n",
    "    group_dict = defaultdict(int)\n",
    "    for i in enumerate(list(groups)):\n",
    "        group_dict[i[1]]= i[0]\n",
    "\n",
    "    return group_dict\n",
    "\n",
    "group_id_dict = groups_dict(groups)\n",
    "\n",
    "df['group_id'] = [group_id_dict[x] for x in df['group']]"
   ]
  },
  {
   "cell_type": "markdown",
   "metadata": {},
   "source": [
    "Create station ID for later grouping on distinct stations"
   ]
  },
  {
   "cell_type": "code",
   "execution_count": 53,
   "metadata": {},
   "outputs": [],
   "source": [
    "# Create station ID for distinct stations\n",
    "df['station_id'] = df['station'].astype(str) + \\\n",
    "                df['linename'].astype(str) + \\\n",
    "                df['division'].astype(str)"
   ]
  },
  {
   "cell_type": "markdown",
   "metadata": {},
   "source": [
    "Sort values in dataframe by group id and datatime to find diff in counts from prev row"
   ]
  },
  {
   "cell_type": "code",
   "execution_count": 54,
   "metadata": {
    "collapsed": true
   },
   "outputs": [],
   "source": [
    "# Sort values by group id and date to find diff in turnstile counts from prev row\n",
    "df.sort_values(['group_id','datetime_clean'], inplace=True)\n",
    "df.reset_index(drop=True)\n",
    "\n",
    "def find_diff_prev_row(df_series_col):\n",
    "    col_array = np.array(df_series_col)\n",
    "    col_array_shifted = shift(col_array, 1, cval=np.NaN)\n",
    "    col_diff = abs(col_array - col_array_shifted)\n",
    "\n",
    "    return col_diff\n",
    "\n",
    "\n",
    "df['entries_diff'] = find_diff_prev_row(df['entries'])\n",
    "df['exit_diff'] = find_diff_prev_row(df['exits'])"
   ]
  },
  {
   "cell_type": "markdown",
   "metadata": {},
   "source": [
    "Set invalid diff values to nan (first row of turnstile partitions and negative values from reboots)"
   ]
  },
  {
   "cell_type": "code",
   "execution_count": 57,
   "metadata": {},
   "outputs": [],
   "source": [
    "# Identify first rows for each group partition to use as mask when setting invalid values to nan\n",
    "def find_first_rows_groups(df_series_col):\n",
    "    col_array = np.array(df_series_col)\n",
    "    col_array_shifted = shift(col_array, 1, cval=np.NaN)\n",
    "    first_row_mask = col_array != col_array_shifted\n",
    "\n",
    "    return first_row_mask\n",
    "\n",
    "\n",
    "df['first_row_group'] = find_first_rows_groups(df['group_id'])\n",
    "\n",
    "# Make entries_diff and exit_diff nan when first row in group or negative value\n",
    "df.loc[df['first_row_group'], 'entries_diff'] = None\n",
    "df.loc[df['entries_diff'] < 0, 'entries_diff'] = None\n",
    "\n",
    "df.loc[df['first_row_group'], 'exit_diff'] = None\n",
    "df.loc[df['exit_diff'] < 0, 'exit_diff'] = None"
   ]
  },
  {
   "cell_type": "code",
   "execution_count": 58,
   "metadata": {},
   "outputs": [
    {
     "data": {
      "text/html": [
       "<div>\n",
       "<style>\n",
       "    .dataframe thead tr:only-child th {\n",
       "        text-align: right;\n",
       "    }\n",
       "\n",
       "    .dataframe thead th {\n",
       "        text-align: left;\n",
       "    }\n",
       "\n",
       "    .dataframe tbody tr th {\n",
       "        vertical-align: top;\n",
       "    }\n",
       "</style>\n",
       "<table border=\"1\" class=\"dataframe\">\n",
       "  <thead>\n",
       "    <tr style=\"text-align: right;\">\n",
       "      <th></th>\n",
       "      <th>c/a</th>\n",
       "      <th>unit</th>\n",
       "      <th>scp</th>\n",
       "      <th>station</th>\n",
       "      <th>linename</th>\n",
       "      <th>division</th>\n",
       "      <th>date</th>\n",
       "      <th>time</th>\n",
       "      <th>desc</th>\n",
       "      <th>entries</th>\n",
       "      <th>...</th>\n",
       "      <th>datetime_clean</th>\n",
       "      <th>year</th>\n",
       "      <th>weekday</th>\n",
       "      <th>group</th>\n",
       "      <th>group_id</th>\n",
       "      <th>station_id</th>\n",
       "      <th>entries_diff</th>\n",
       "      <th>exit_diff</th>\n",
       "      <th>first_row_group</th>\n",
       "      <th>entires_diff</th>\n",
       "    </tr>\n",
       "  </thead>\n",
       "  <tbody>\n",
       "    <tr>\n",
       "      <th>114963</th>\n",
       "      <td>PTH07</td>\n",
       "      <td>R550</td>\n",
       "      <td>00-02-01</td>\n",
       "      <td>CITY / BUS</td>\n",
       "      <td>1</td>\n",
       "      <td>PTH</td>\n",
       "      <td>03/25/2017</td>\n",
       "      <td>02:58:33</td>\n",
       "      <td>REGULAR</td>\n",
       "      <td>22298</td>\n",
       "      <td>...</td>\n",
       "      <td>2017-03-25 02:58:33</td>\n",
       "      <td>2017</td>\n",
       "      <td>Saturday</td>\n",
       "      <td>PTH07R55000-02-01CITY / BUS1PTH2017</td>\n",
       "      <td>0</td>\n",
       "      <td>CITY / BUS1PTH</td>\n",
       "      <td>NaN</td>\n",
       "      <td>NaN</td>\n",
       "      <td>True</td>\n",
       "      <td>NaN</td>\n",
       "    </tr>\n",
       "    <tr>\n",
       "      <th>114964</th>\n",
       "      <td>PTH07</td>\n",
       "      <td>R550</td>\n",
       "      <td>00-02-01</td>\n",
       "      <td>CITY / BUS</td>\n",
       "      <td>1</td>\n",
       "      <td>PTH</td>\n",
       "      <td>03/25/2017</td>\n",
       "      <td>07:10:33</td>\n",
       "      <td>REGULAR</td>\n",
       "      <td>22298</td>\n",
       "      <td>...</td>\n",
       "      <td>2017-03-25 07:10:33</td>\n",
       "      <td>2017</td>\n",
       "      <td>Saturday</td>\n",
       "      <td>PTH07R55000-02-01CITY / BUS1PTH2017</td>\n",
       "      <td>0</td>\n",
       "      <td>CITY / BUS1PTH</td>\n",
       "      <td>0.0</td>\n",
       "      <td>0.0</td>\n",
       "      <td>False</td>\n",
       "      <td>NaN</td>\n",
       "    </tr>\n",
       "    <tr>\n",
       "      <th>114965</th>\n",
       "      <td>PTH07</td>\n",
       "      <td>R550</td>\n",
       "      <td>00-02-01</td>\n",
       "      <td>CITY / BUS</td>\n",
       "      <td>1</td>\n",
       "      <td>PTH</td>\n",
       "      <td>03/25/2017</td>\n",
       "      <td>11:22:33</td>\n",
       "      <td>REGULAR</td>\n",
       "      <td>22298</td>\n",
       "      <td>...</td>\n",
       "      <td>2017-03-25 11:22:33</td>\n",
       "      <td>2017</td>\n",
       "      <td>Saturday</td>\n",
       "      <td>PTH07R55000-02-01CITY / BUS1PTH2017</td>\n",
       "      <td>0</td>\n",
       "      <td>CITY / BUS1PTH</td>\n",
       "      <td>0.0</td>\n",
       "      <td>0.0</td>\n",
       "      <td>False</td>\n",
       "      <td>NaN</td>\n",
       "    </tr>\n",
       "    <tr>\n",
       "      <th>114966</th>\n",
       "      <td>PTH07</td>\n",
       "      <td>R550</td>\n",
       "      <td>00-02-01</td>\n",
       "      <td>CITY / BUS</td>\n",
       "      <td>1</td>\n",
       "      <td>PTH</td>\n",
       "      <td>03/25/2017</td>\n",
       "      <td>15:34:33</td>\n",
       "      <td>REGULAR</td>\n",
       "      <td>22298</td>\n",
       "      <td>...</td>\n",
       "      <td>2017-03-25 15:34:33</td>\n",
       "      <td>2017</td>\n",
       "      <td>Saturday</td>\n",
       "      <td>PTH07R55000-02-01CITY / BUS1PTH2017</td>\n",
       "      <td>0</td>\n",
       "      <td>CITY / BUS1PTH</td>\n",
       "      <td>0.0</td>\n",
       "      <td>3.0</td>\n",
       "      <td>False</td>\n",
       "      <td>NaN</td>\n",
       "    </tr>\n",
       "    <tr>\n",
       "      <th>114967</th>\n",
       "      <td>PTH07</td>\n",
       "      <td>R550</td>\n",
       "      <td>00-02-01</td>\n",
       "      <td>CITY / BUS</td>\n",
       "      <td>1</td>\n",
       "      <td>PTH</td>\n",
       "      <td>03/25/2017</td>\n",
       "      <td>19:46:33</td>\n",
       "      <td>REGULAR</td>\n",
       "      <td>22298</td>\n",
       "      <td>...</td>\n",
       "      <td>2017-03-25 19:46:33</td>\n",
       "      <td>2017</td>\n",
       "      <td>Saturday</td>\n",
       "      <td>PTH07R55000-02-01CITY / BUS1PTH2017</td>\n",
       "      <td>0</td>\n",
       "      <td>CITY / BUS1PTH</td>\n",
       "      <td>0.0</td>\n",
       "      <td>1.0</td>\n",
       "      <td>False</td>\n",
       "      <td>NaN</td>\n",
       "    </tr>\n",
       "  </tbody>\n",
       "</table>\n",
       "<p>5 rows × 22 columns</p>\n",
       "</div>"
      ],
      "text/plain": [
       "          c/a  unit       scp     station linename division        date  \\\n",
       "114963  PTH07  R550  00-02-01  CITY / BUS        1      PTH  03/25/2017   \n",
       "114964  PTH07  R550  00-02-01  CITY / BUS        1      PTH  03/25/2017   \n",
       "114965  PTH07  R550  00-02-01  CITY / BUS        1      PTH  03/25/2017   \n",
       "114966  PTH07  R550  00-02-01  CITY / BUS        1      PTH  03/25/2017   \n",
       "114967  PTH07  R550  00-02-01  CITY / BUS        1      PTH  03/25/2017   \n",
       "\n",
       "            time     desc  entries      ...           datetime_clean  year  \\\n",
       "114963  02:58:33  REGULAR    22298      ...      2017-03-25 02:58:33  2017   \n",
       "114964  07:10:33  REGULAR    22298      ...      2017-03-25 07:10:33  2017   \n",
       "114965  11:22:33  REGULAR    22298      ...      2017-03-25 11:22:33  2017   \n",
       "114966  15:34:33  REGULAR    22298      ...      2017-03-25 15:34:33  2017   \n",
       "114967  19:46:33  REGULAR    22298      ...      2017-03-25 19:46:33  2017   \n",
       "\n",
       "         weekday                                group group_id  \\\n",
       "114963  Saturday  PTH07R55000-02-01CITY / BUS1PTH2017        0   \n",
       "114964  Saturday  PTH07R55000-02-01CITY / BUS1PTH2017        0   \n",
       "114965  Saturday  PTH07R55000-02-01CITY / BUS1PTH2017        0   \n",
       "114966  Saturday  PTH07R55000-02-01CITY / BUS1PTH2017        0   \n",
       "114967  Saturday  PTH07R55000-02-01CITY / BUS1PTH2017        0   \n",
       "\n",
       "            station_id  entries_diff exit_diff  first_row_group  entires_diff  \n",
       "114963  CITY / BUS1PTH           NaN       NaN             True           NaN  \n",
       "114964  CITY / BUS1PTH           0.0       0.0            False           NaN  \n",
       "114965  CITY / BUS1PTH           0.0       0.0            False           NaN  \n",
       "114966  CITY / BUS1PTH           0.0       3.0            False           NaN  \n",
       "114967  CITY / BUS1PTH           0.0       1.0            False           NaN  \n",
       "\n",
       "[5 rows x 22 columns]"
      ]
     },
     "execution_count": 58,
     "metadata": {},
     "output_type": "execute_result"
    }
   ],
   "source": [
    "df.head()"
   ]
  },
  {
   "cell_type": "markdown",
   "metadata": {},
   "source": [
    "Pickle dataframe for further exploration!! "
   ]
  },
  {
   "cell_type": "code",
   "execution_count": null,
   "metadata": {
    "collapsed": true
   },
   "outputs": [],
   "source": [
    "df.to_pickle('cleaned_turnstile_data.pkl')"
   ]
  },
  {
   "cell_type": "code",
   "execution_count": null,
   "metadata": {
    "collapsed": true
   },
   "outputs": [],
   "source": []
  }
 ],
 "metadata": {
  "kernelspec": {
   "display_name": "Python 3",
   "language": "python",
   "name": "python3"
  },
  "language_info": {
   "codemirror_mode": {
    "name": "ipython",
    "version": 3
   },
   "file_extension": ".py",
   "mimetype": "text/x-python",
   "name": "python",
   "nbconvert_exporter": "python",
   "pygments_lexer": "ipython3",
   "version": "3.6.3"
  }
 },
 "nbformat": 4,
 "nbformat_minor": 2
}
