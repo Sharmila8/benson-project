{
 "cells": [
  {
   "cell_type": "markdown",
   "metadata": {},
   "source": [
    "# Cleaning the data "
   ]
  },
  {
   "cell_type": "markdown",
   "metadata": {},
   "source": [
    "## Step 1: Import Libraries\n",
    "We'll use the following libraries in this notebook:"
   ]
  },
  {
   "cell_type": "code",
   "execution_count": 20,
   "metadata": {
    "collapsed": true
   },
   "outputs": [],
   "source": [
    "import pandas as pd\n",
    "import seaborn as sns\n",
    "from datetime import time\n",
    "%matplotlib inline"
   ]
  },
  {
   "cell_type": "markdown",
   "metadata": {},
   "source": [
    "## Step 2: Deal with outliers and missing values\n",
    "We'll use the following libraries in this notebook:"
   ]
  },
  {
   "cell_type": "markdown",
   "metadata": {},
   "source": [
    "Read in the pickled file"
   ]
  },
  {
   "cell_type": "code",
   "execution_count": 21,
   "metadata": {},
   "outputs": [
    {
     "data": {
      "text/html": [
       "<div>\n",
       "<style>\n",
       "    .dataframe thead tr:only-child th {\n",
       "        text-align: right;\n",
       "    }\n",
       "\n",
       "    .dataframe thead th {\n",
       "        text-align: left;\n",
       "    }\n",
       "\n",
       "    .dataframe tbody tr th {\n",
       "        vertical-align: top;\n",
       "    }\n",
       "</style>\n",
       "<table border=\"1\" class=\"dataframe\">\n",
       "  <thead>\n",
       "    <tr style=\"text-align: right;\">\n",
       "      <th></th>\n",
       "      <th>c/a</th>\n",
       "      <th>unit</th>\n",
       "      <th>scp</th>\n",
       "      <th>station</th>\n",
       "      <th>linename</th>\n",
       "      <th>division</th>\n",
       "      <th>date</th>\n",
       "      <th>time</th>\n",
       "      <th>desc</th>\n",
       "      <th>entries</th>\n",
       "      <th>...</th>\n",
       "      <th>datetime_clean</th>\n",
       "      <th>year</th>\n",
       "      <th>weekday</th>\n",
       "      <th>group</th>\n",
       "      <th>group_id</th>\n",
       "      <th>station_id</th>\n",
       "      <th>entries_diff</th>\n",
       "      <th>exit_diff</th>\n",
       "      <th>first_row_group</th>\n",
       "      <th>entires_diff</th>\n",
       "    </tr>\n",
       "  </thead>\n",
       "  <tbody>\n",
       "    <tr>\n",
       "      <th>114963</th>\n",
       "      <td>PTH07</td>\n",
       "      <td>R550</td>\n",
       "      <td>00-02-01</td>\n",
       "      <td>CITY / BUS</td>\n",
       "      <td>1</td>\n",
       "      <td>PTH</td>\n",
       "      <td>03/25/2017</td>\n",
       "      <td>02:58:33</td>\n",
       "      <td>REGULAR</td>\n",
       "      <td>22298</td>\n",
       "      <td>...</td>\n",
       "      <td>2017-03-25 02:58:33</td>\n",
       "      <td>2017</td>\n",
       "      <td>Saturday</td>\n",
       "      <td>PTH07R55000-02-01CITY / BUS1PTH2017</td>\n",
       "      <td>0</td>\n",
       "      <td>CITY / BUS1PTH</td>\n",
       "      <td>NaN</td>\n",
       "      <td>NaN</td>\n",
       "      <td>True</td>\n",
       "      <td>NaN</td>\n",
       "    </tr>\n",
       "    <tr>\n",
       "      <th>114964</th>\n",
       "      <td>PTH07</td>\n",
       "      <td>R550</td>\n",
       "      <td>00-02-01</td>\n",
       "      <td>CITY / BUS</td>\n",
       "      <td>1</td>\n",
       "      <td>PTH</td>\n",
       "      <td>03/25/2017</td>\n",
       "      <td>07:10:33</td>\n",
       "      <td>REGULAR</td>\n",
       "      <td>22298</td>\n",
       "      <td>...</td>\n",
       "      <td>2017-03-25 07:10:33</td>\n",
       "      <td>2017</td>\n",
       "      <td>Saturday</td>\n",
       "      <td>PTH07R55000-02-01CITY / BUS1PTH2017</td>\n",
       "      <td>0</td>\n",
       "      <td>CITY / BUS1PTH</td>\n",
       "      <td>0.0</td>\n",
       "      <td>0.0</td>\n",
       "      <td>False</td>\n",
       "      <td>NaN</td>\n",
       "    </tr>\n",
       "    <tr>\n",
       "      <th>114965</th>\n",
       "      <td>PTH07</td>\n",
       "      <td>R550</td>\n",
       "      <td>00-02-01</td>\n",
       "      <td>CITY / BUS</td>\n",
       "      <td>1</td>\n",
       "      <td>PTH</td>\n",
       "      <td>03/25/2017</td>\n",
       "      <td>11:22:33</td>\n",
       "      <td>REGULAR</td>\n",
       "      <td>22298</td>\n",
       "      <td>...</td>\n",
       "      <td>2017-03-25 11:22:33</td>\n",
       "      <td>2017</td>\n",
       "      <td>Saturday</td>\n",
       "      <td>PTH07R55000-02-01CITY / BUS1PTH2017</td>\n",
       "      <td>0</td>\n",
       "      <td>CITY / BUS1PTH</td>\n",
       "      <td>0.0</td>\n",
       "      <td>0.0</td>\n",
       "      <td>False</td>\n",
       "      <td>NaN</td>\n",
       "    </tr>\n",
       "    <tr>\n",
       "      <th>114966</th>\n",
       "      <td>PTH07</td>\n",
       "      <td>R550</td>\n",
       "      <td>00-02-01</td>\n",
       "      <td>CITY / BUS</td>\n",
       "      <td>1</td>\n",
       "      <td>PTH</td>\n",
       "      <td>03/25/2017</td>\n",
       "      <td>15:34:33</td>\n",
       "      <td>REGULAR</td>\n",
       "      <td>22298</td>\n",
       "      <td>...</td>\n",
       "      <td>2017-03-25 15:34:33</td>\n",
       "      <td>2017</td>\n",
       "      <td>Saturday</td>\n",
       "      <td>PTH07R55000-02-01CITY / BUS1PTH2017</td>\n",
       "      <td>0</td>\n",
       "      <td>CITY / BUS1PTH</td>\n",
       "      <td>0.0</td>\n",
       "      <td>3.0</td>\n",
       "      <td>False</td>\n",
       "      <td>NaN</td>\n",
       "    </tr>\n",
       "    <tr>\n",
       "      <th>114967</th>\n",
       "      <td>PTH07</td>\n",
       "      <td>R550</td>\n",
       "      <td>00-02-01</td>\n",
       "      <td>CITY / BUS</td>\n",
       "      <td>1</td>\n",
       "      <td>PTH</td>\n",
       "      <td>03/25/2017</td>\n",
       "      <td>19:46:33</td>\n",
       "      <td>REGULAR</td>\n",
       "      <td>22298</td>\n",
       "      <td>...</td>\n",
       "      <td>2017-03-25 19:46:33</td>\n",
       "      <td>2017</td>\n",
       "      <td>Saturday</td>\n",
       "      <td>PTH07R55000-02-01CITY / BUS1PTH2017</td>\n",
       "      <td>0</td>\n",
       "      <td>CITY / BUS1PTH</td>\n",
       "      <td>0.0</td>\n",
       "      <td>1.0</td>\n",
       "      <td>False</td>\n",
       "      <td>NaN</td>\n",
       "    </tr>\n",
       "  </tbody>\n",
       "</table>\n",
       "<p>5 rows × 22 columns</p>\n",
       "</div>"
      ],
      "text/plain": [
       "          c/a  unit       scp     station linename division        date  \\\n",
       "114963  PTH07  R550  00-02-01  CITY / BUS        1      PTH  03/25/2017   \n",
       "114964  PTH07  R550  00-02-01  CITY / BUS        1      PTH  03/25/2017   \n",
       "114965  PTH07  R550  00-02-01  CITY / BUS        1      PTH  03/25/2017   \n",
       "114966  PTH07  R550  00-02-01  CITY / BUS        1      PTH  03/25/2017   \n",
       "114967  PTH07  R550  00-02-01  CITY / BUS        1      PTH  03/25/2017   \n",
       "\n",
       "            time     desc  entries      ...           datetime_clean  year  \\\n",
       "114963  02:58:33  REGULAR    22298      ...      2017-03-25 02:58:33  2017   \n",
       "114964  07:10:33  REGULAR    22298      ...      2017-03-25 07:10:33  2017   \n",
       "114965  11:22:33  REGULAR    22298      ...      2017-03-25 11:22:33  2017   \n",
       "114966  15:34:33  REGULAR    22298      ...      2017-03-25 15:34:33  2017   \n",
       "114967  19:46:33  REGULAR    22298      ...      2017-03-25 19:46:33  2017   \n",
       "\n",
       "         weekday                                group group_id  \\\n",
       "114963  Saturday  PTH07R55000-02-01CITY / BUS1PTH2017        0   \n",
       "114964  Saturday  PTH07R55000-02-01CITY / BUS1PTH2017        0   \n",
       "114965  Saturday  PTH07R55000-02-01CITY / BUS1PTH2017        0   \n",
       "114966  Saturday  PTH07R55000-02-01CITY / BUS1PTH2017        0   \n",
       "114967  Saturday  PTH07R55000-02-01CITY / BUS1PTH2017        0   \n",
       "\n",
       "            station_id  entries_diff exit_diff  first_row_group  entires_diff  \n",
       "114963  CITY / BUS1PTH           NaN       NaN             True           NaN  \n",
       "114964  CITY / BUS1PTH           0.0       0.0            False           NaN  \n",
       "114965  CITY / BUS1PTH           0.0       0.0            False           NaN  \n",
       "114966  CITY / BUS1PTH           0.0       3.0            False           NaN  \n",
       "114967  CITY / BUS1PTH           0.0       1.0            False           NaN  \n",
       "\n",
       "[5 rows x 22 columns]"
      ]
     },
     "execution_count": 21,
     "metadata": {},
     "output_type": "execute_result"
    }
   ],
   "source": [
    "df = pd.read_pickle('cleaned_turnstile_data.pkl')\n",
    "df.head()"
   ]
  },
  {
   "cell_type": "markdown",
   "metadata": {},
   "source": [
    "Describe the data to find the distribution and outliers for the entry and exit diff data "
   ]
  },
  {
   "cell_type": "code",
   "execution_count": 22,
   "metadata": {},
   "outputs": [
    {
     "data": {
      "text/html": [
       "<div>\n",
       "<style>\n",
       "    .dataframe thead tr:only-child th {\n",
       "        text-align: right;\n",
       "    }\n",
       "\n",
       "    .dataframe thead th {\n",
       "        text-align: left;\n",
       "    }\n",
       "\n",
       "    .dataframe tbody tr th {\n",
       "        vertical-align: top;\n",
       "    }\n",
       "</style>\n",
       "<table border=\"1\" class=\"dataframe\">\n",
       "  <thead>\n",
       "    <tr style=\"text-align: right;\">\n",
       "      <th></th>\n",
       "      <th>entries</th>\n",
       "      <th>exits</th>\n",
       "      <th>year</th>\n",
       "      <th>group_id</th>\n",
       "      <th>entries_diff</th>\n",
       "      <th>exit_diff</th>\n",
       "      <th>entires_diff</th>\n",
       "    </tr>\n",
       "  </thead>\n",
       "  <tbody>\n",
       "    <tr>\n",
       "      <th>count</th>\n",
       "      <td>5.481151e+06</td>\n",
       "      <td>5.481151e+06</td>\n",
       "      <td>5.481151e+06</td>\n",
       "      <td>5.481151e+06</td>\n",
       "      <td>5.471787e+06</td>\n",
       "      <td>5.471787e+06</td>\n",
       "      <td>0.0</td>\n",
       "    </tr>\n",
       "    <tr>\n",
       "      <th>mean</th>\n",
       "      <td>3.668874e+07</td>\n",
       "      <td>2.942573e+07</td>\n",
       "      <td>2.016504e+03</td>\n",
       "      <td>4.680232e+03</td>\n",
       "      <td>1.098745e+04</td>\n",
       "      <td>1.020665e+04</td>\n",
       "      <td>NaN</td>\n",
       "    </tr>\n",
       "    <tr>\n",
       "      <th>std</th>\n",
       "      <td>1.995975e+08</td>\n",
       "      <td>1.789708e+08</td>\n",
       "      <td>4.999825e-01</td>\n",
       "      <td>2.704076e+03</td>\n",
       "      <td>3.712465e+06</td>\n",
       "      <td>3.654583e+06</td>\n",
       "      <td>NaN</td>\n",
       "    </tr>\n",
       "    <tr>\n",
       "      <th>min</th>\n",
       "      <td>0.000000e+00</td>\n",
       "      <td>0.000000e+00</td>\n",
       "      <td>2.016000e+03</td>\n",
       "      <td>0.000000e+00</td>\n",
       "      <td>0.000000e+00</td>\n",
       "      <td>0.000000e+00</td>\n",
       "      <td>NaN</td>\n",
       "    </tr>\n",
       "    <tr>\n",
       "      <th>25%</th>\n",
       "      <td>5.403665e+05</td>\n",
       "      <td>2.665350e+05</td>\n",
       "      <td>2.016000e+03</td>\n",
       "      <td>2.341000e+03</td>\n",
       "      <td>1.100000e+01</td>\n",
       "      <td>9.000000e+00</td>\n",
       "      <td>NaN</td>\n",
       "    </tr>\n",
       "    <tr>\n",
       "      <th>50%</th>\n",
       "      <td>2.597810e+06</td>\n",
       "      <td>1.490638e+06</td>\n",
       "      <td>2.017000e+03</td>\n",
       "      <td>4.677000e+03</td>\n",
       "      <td>8.200000e+01</td>\n",
       "      <td>5.500000e+01</td>\n",
       "      <td>NaN</td>\n",
       "    </tr>\n",
       "    <tr>\n",
       "      <th>75%</th>\n",
       "      <td>6.628317e+06</td>\n",
       "      <td>4.688856e+06</td>\n",
       "      <td>2.017000e+03</td>\n",
       "      <td>7.020000e+03</td>\n",
       "      <td>2.580000e+02</td>\n",
       "      <td>1.730000e+02</td>\n",
       "      <td>NaN</td>\n",
       "    </tr>\n",
       "    <tr>\n",
       "      <th>max</th>\n",
       "      <td>2.147483e+09</td>\n",
       "      <td>2.097170e+09</td>\n",
       "      <td>2.017000e+03</td>\n",
       "      <td>9.363000e+03</td>\n",
       "      <td>2.130766e+09</td>\n",
       "      <td>2.097170e+09</td>\n",
       "      <td>NaN</td>\n",
       "    </tr>\n",
       "  </tbody>\n",
       "</table>\n",
       "</div>"
      ],
      "text/plain": [
       "            entries         exits          year      group_id  entries_diff  \\\n",
       "count  5.481151e+06  5.481151e+06  5.481151e+06  5.481151e+06  5.471787e+06   \n",
       "mean   3.668874e+07  2.942573e+07  2.016504e+03  4.680232e+03  1.098745e+04   \n",
       "std    1.995975e+08  1.789708e+08  4.999825e-01  2.704076e+03  3.712465e+06   \n",
       "min    0.000000e+00  0.000000e+00  2.016000e+03  0.000000e+00  0.000000e+00   \n",
       "25%    5.403665e+05  2.665350e+05  2.016000e+03  2.341000e+03  1.100000e+01   \n",
       "50%    2.597810e+06  1.490638e+06  2.017000e+03  4.677000e+03  8.200000e+01   \n",
       "75%    6.628317e+06  4.688856e+06  2.017000e+03  7.020000e+03  2.580000e+02   \n",
       "max    2.147483e+09  2.097170e+09  2.017000e+03  9.363000e+03  2.130766e+09   \n",
       "\n",
       "          exit_diff  entires_diff  \n",
       "count  5.471787e+06           0.0  \n",
       "mean   1.020665e+04           NaN  \n",
       "std    3.654583e+06           NaN  \n",
       "min    0.000000e+00           NaN  \n",
       "25%    9.000000e+00           NaN  \n",
       "50%    5.500000e+01           NaN  \n",
       "75%    1.730000e+02           NaN  \n",
       "max    2.097170e+09           NaN  "
      ]
     },
     "execution_count": 22,
     "metadata": {},
     "output_type": "execute_result"
    }
   ],
   "source": [
    "df.describe()"
   ]
  },
  {
   "cell_type": "markdown",
   "metadata": {},
   "source": [
    "### Outliers\n",
    "Outliers are commonly defined as values that fall above 1.5 IQR from the 75th Q. If we use this definition, 6.6% of our values would qualify as outliers"
   ]
  },
  {
   "cell_type": "code",
   "execution_count": 23,
   "metadata": {
    "collapsed": true
   },
   "outputs": [],
   "source": [
    "def find_outliers(df_series, multiple_IQR):\n",
    "    \"\"\"\n",
    "    For a series of numerical values, identify the upper outliers and return a mask for all outliers in series\n",
    "    \"\"\"\n",
    "    adjusted_IQR = (df_series.quantile(.75) - df_series.quantile(.25)) * multiple_IQR\n",
    "    outlier_lim = df_series.quantile(.75) + adjusted_IQR\n",
    "    \n",
    "    outliers = [True if x > outlier_lim else False for x in df_series]\n",
    "    \n",
    "    outlier_count = len(data[data['entries_diff'] > outlier_lim])\n",
    "    all_data_count = len(data)\n",
    "    print('{} outliers identified: {} of all data'.format(outlier_count, round(outlier_count/all_data_count,2)))\n",
    "    \n",
    "    return outliers"
   ]
  },
  {
   "cell_type": "code",
   "execution_count": 24,
   "metadata": {},
   "outputs": [
    {
     "name": "stdout",
     "output_type": "stream",
     "text": [
      "363917 outliers identified: 0.07 of all data\n",
      "763593 outliers identified: 0.14 of all data\n"
     ]
    }
   ],
   "source": [
    "df['entries_outlier'] = find_outliers(df['entries_diff'], 1.5)\n",
    "df['exit_outlier'] = find_outliers(df['exit_diff'], 1.5)"
   ]
  },
  {
   "cell_type": "code",
   "execution_count": 25,
   "metadata": {},
   "outputs": [
    {
     "name": "stdout",
     "output_type": "stream",
     "text": [
      "All Data Len: 5481151\n",
      "Excluding Outliers Len: 4715191\n",
      "Keeping 0.86\n"
     ]
    }
   ],
   "source": [
    "print('All Data Len:', len(df))\n",
    "\n",
    "clean_df = df.loc[(~df['entries_outlier'] & ~df['exit_outlier'])].copy()\n",
    "print('Excluding Outliers Len:', len(clean_df))\n",
    "\n",
    "print('Keeping', round(len(clean_df)/len(df), 2))"
   ]
  },
  {
   "cell_type": "markdown",
   "metadata": {},
   "source": [
    "### Missing Values\n",
    "See if there are any missing values and drop them from the dataset or replace with knn or other"
   ]
  },
  {
   "cell_type": "code",
   "execution_count": 26,
   "metadata": {},
   "outputs": [
    {
     "name": "stdout",
     "output_type": "stream",
     "text": [
      "Null entry diffs 9364\n",
      "Null exit diffs 9364\n",
      "Clean Data len: 4715191\n"
     ]
    }
   ],
   "source": [
    "print('Null entry diffs', clean_df.entries_diff.isnull().sum())\n",
    "print('Null exit diffs', clean_df.exit_diff.isnull().sum())\n",
    "print('Clean Data len:', len(clean_df))"
   ]
  },
  {
   "cell_type": "code",
   "execution_count": 27,
   "metadata": {},
   "outputs": [
    {
     "name": "stdout",
     "output_type": "stream",
     "text": [
      "Null entry diffs 0\n",
      "Null exit diffs 0\n",
      "Clean Data len: 4705827\n"
     ]
    }
   ],
   "source": [
    "clean_df.dropna(subset = ['entries_diff', 'exit_diff'], how='any', inplace=True)\n",
    "\n",
    "print('Null entry diffs', clean_df.entries_diff.isnull().sum())\n",
    "print('Null exit diffs', clean_df.exit_diff.isnull().sum())\n",
    "print('Clean Data len:', len(clean_df))"
   ]
  },
  {
   "cell_type": "markdown",
   "metadata": {},
   "source": [
    "## Step 3: Explore the distributions\n",
    "\n",
    "### Group by Stations to find weekly average distribution\n",
    "Now that we've taken care of missing values and outliers we can plot our counts"
   ]
  },
  {
   "cell_type": "code",
   "execution_count": 32,
   "metadata": {
    "collapsed": true
   },
   "outputs": [],
   "source": [
    "# Get count of all entries and exits\n",
    "clean_df['all_traffic'] = clean_df['entries_diff'] + clean_df['exit_diff']"
   ]
  },
  {
   "cell_type": "code",
   "execution_count": 34,
   "metadata": {},
   "outputs": [],
   "source": [
    "# Create dataframe with week value for \n",
    "clean_df['week'] = [x.isocalendar()[1] for x in clean_df['datetime_clean']]\n",
    "clean_df['hour'] = [x.hour for x in clean_df['datetime_clean']]\n",
    "\n",
    "# Find weekly average entry/exits per station\n",
    "stations_week = clean_df.groupby(['station_id', 'week']).sum()\n",
    "stations_week.reset_index(inplace=True)\n",
    "\n",
    "weekly_avg = stations_week.groupby('station_id')['all_traffic'].mean()\n",
    "weekly_avg.sort_values(ascending=False, inplace=True)"
   ]
  },
  {
   "cell_type": "code",
   "execution_count": 35,
   "metadata": {},
   "outputs": [
    {
     "data": {
      "image/png": "[encoded data removed]",
      "text/plain": [
       "<matplotlib.figure.Figure at 0x1136452b0>"
      ]
     },
     "metadata": {},
     "output_type": "display_data"
    }
   ],
   "source": [
    "sns.distplot(weekly_avg, hist=True, kde=True);"
   ]
  },
  {
   "cell_type": "markdown",
   "metadata": {},
   "source": [
    "Pickle the cleaned data to easily pick up again for exploration"
   ]
  },
  {
   "cell_type": "code",
   "execution_count": 38,
   "metadata": {
    "collapsed": true
   },
   "outputs": [],
   "source": [
    "clean_df.to_pickle('cleaned_turnstile_data2.pkl')"
   ]
  },
  {
   "cell_type": "code",
   "execution_count": null,
   "metadata": {
    "collapsed": true
   },
   "outputs": [],
   "source": []
  }
 ],
 "metadata": {
  "kernelspec": {
   "display_name": "Python 3",
   "language": "python",
   "name": "python3"
  },
  "language_info": {
   "codemirror_mode": {
    "name": "ipython",
    "version": 3
   },
   "file_extension": ".py",
   "mimetype": "text/x-python",
   "name": "python",
   "nbconvert_exporter": "python",
   "pygments_lexer": "ipython3",
   "version": "3.6.3"
  }
 },
 "nbformat": 4,
 "nbformat_minor": 2
}
